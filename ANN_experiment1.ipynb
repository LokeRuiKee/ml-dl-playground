{
  "nbformat": 4,
  "nbformat_minor": 0,
  "metadata": {
    "colab": {
      "provenance": [],
      "toc_visible": true,
      "authorship_tag": "ABX9TyNho1egXoLzpLQ5skQIbktp",
      "include_colab_link": true
    },
    "kernelspec": {
      "name": "python3",
      "display_name": "Python 3"
    },
    "language_info": {
      "name": "python"
    }
  },
  "cells": [
    {
      "cell_type": "markdown",
      "metadata": {
        "id": "view-in-github",
        "colab_type": "text"
      },
      "source": [
        "<a href=\"https://colab.research.google.com/github/LokeRuiKee/ml-dl-playground/blob/main/ANN_experiment1.ipynb\" target=\"_parent\"><img src=\"https://colab.research.google.com/assets/colab-badge.svg\" alt=\"Open In Colab\"/></a>"
      ]
    },
    {
      "cell_type": "markdown",
      "source": [
        "# Algorithm: ANN\n"
      ],
      "metadata": {
        "id": "Lp0tz0kWV9Qh"
      }
    },
    {
      "cell_type": "markdown",
      "source": [
        "\n",
        "List of activation function:\n",
        "\n",
        "1. Rectified Linear Unit (ReLU)\n",
        "2. Leaky ReLU\n",
        "3. Exponential Linear Unit (ELU)\n",
        "4. Parametric ReLU (PReLU)\n",
        "5. Sigmoid Function\n",
        "6. Hyperbolic Tangent (tanh) Function\n",
        "7. SoftMax Function\n",
        "\n",
        "\n",
        "List of optimizer:\n",
        "\n",
        "1. Stochastic Gradient Descent (SGD)\n",
        "2. SGD with Momentum\n",
        "3. RMSProp (Root Mean Square Propagation)\n",
        "4. Adam (Adaptive Moment Estimation)\n",
        "5. Adamax\n",
        "6. Nadam (Nesterov-accelerated Adaptive Moment Estimation)\n",
        "7. AdaGrad (Adaptive Gradient Algorithm)\n",
        "8. AdaDelta\n"
      ],
      "metadata": {
        "id": "lb_zYWCYVWuN"
      }
    },
    {
      "cell_type": "markdown",
      "source": [
        "# Template code"
      ],
      "metadata": {
        "id": "V1o-vU3GOzjG"
      }
    },
    {
      "cell_type": "code",
      "execution_count": null,
      "metadata": {
        "id": "au0uPBZPyBZp",
        "colab": {
          "base_uri": "https://localhost:8080/"
        },
        "outputId": "089e75bb-6106-47c3-91fe-7a5ab746d404"
      },
      "outputs": [
        {
          "output_type": "stream",
          "name": "stdout",
          "text": [
            "Downloading data from https://storage.googleapis.com/tensorflow/tf-keras-datasets/train-labels-idx1-ubyte.gz\n",
            "29515/29515 [==============================] - 0s 0us/step\n",
            "Downloading data from https://storage.googleapis.com/tensorflow/tf-keras-datasets/train-images-idx3-ubyte.gz\n",
            "26421880/26421880 [==============================] - 0s 0us/step\n",
            "Downloading data from https://storage.googleapis.com/tensorflow/tf-keras-datasets/t10k-labels-idx1-ubyte.gz\n",
            "5148/5148 [==============================] - 0s 0us/step\n",
            "Downloading data from https://storage.googleapis.com/tensorflow/tf-keras-datasets/t10k-images-idx3-ubyte.gz\n",
            "4422102/4422102 [==============================] - 0s 0us/step\n"
          ]
        },
        {
          "output_type": "execute_result",
          "data": {
            "text/plain": [
              "(10000, 784)"
            ]
          },
          "metadata": {},
          "execution_count": 1
        }
      ],
      "source": [
        "# https://colab.research.google.com/\n",
        "# Importing libraries\n",
        "import numpy as np\n",
        "import datetime\n",
        "import tensorflow as tf\n",
        "from tensorflow.keras.datasets import fashion_mnist\n",
        "# Loading the dataset\n",
        "(X_train, y_train),(X_test, y_test)=fashion_mnist.load_data()\n",
        "# Normalizing the images\n",
        "X_train=X_train/255\n",
        "X_test=X_test/255\n",
        "# Reshaping the data\n",
        "X_train.shape\n",
        "X_train=X_train.reshape(-1,28*28)\n",
        "X_train.shape\n",
        "X_test=X_test.reshape(-1,28*28)\n",
        "X_test.shape\n"
      ]
    },
    {
      "cell_type": "code",
      "source": [
        "# 1. Defining the model\n",
        "model=tf.keras.models.Sequential()\n",
        "# 2. Adding a first fully connected hidden layer\n",
        "model.add(tf.keras.layers.Dense(units=128, activation='relu',input_shape=(784,)))\n",
        "# number of units/neurons: 128\n",
        "# activation function: ReLU\n",
        "# input_shape: (784,)\n",
        "# 3. Adding second layer with dropout\n",
        "model.add(tf.keras.layers.Dropout(0.2))\n",
        "# 4. Adding the output layer\n",
        "model.add(tf.keras.layers.Dense(units=10, activation='softmax'))\n",
        "# units: number of classes (10 in Fashion MNIST dataset)\n",
        "# activation: softmax\n",
        "# 5. Compiling the model\n",
        "model.compile(optimizer='adam', loss='sparse_categorical_crossentropy', metrics=['sparse_categorical_accuracy'])\n",
        "# Optimizer: Adam\n",
        "# Loss: Sparse softmax (categorical) crossentropy\n",
        "model.summary()\n",
        "# 6. Training the model\n",
        "model.fit(X_train, y_train, epochs=10)\n",
        "# 7. Model evaluation and prediction\n",
        "test_loss, test_accuracy=model.evaluate(X_test, y_test)\n",
        "print(\"Test accuracy: {}\".format(test_accuracy))\n"
      ],
      "metadata": {
        "colab": {
          "base_uri": "https://localhost:8080/"
        },
        "id": "2DTxZIesOzBm",
        "outputId": "b6ec1a07-f0a6-4264-de53-fcb930d1918c"
      },
      "execution_count": null,
      "outputs": [
        {
          "output_type": "stream",
          "name": "stdout",
          "text": [
            "Model: \"sequential\"\n",
            "_________________________________________________________________\n",
            " Layer (type)                Output Shape              Param #   \n",
            "=================================================================\n",
            " dense (Dense)               (None, 128)               100480    \n",
            "                                                                 \n",
            " dropout (Dropout)           (None, 128)               0         \n",
            "                                                                 \n",
            " dense_1 (Dense)             (None, 10)                1290      \n",
            "                                                                 \n",
            "=================================================================\n",
            "Total params: 101770 (397.54 KB)\n",
            "Trainable params: 101770 (397.54 KB)\n",
            "Non-trainable params: 0 (0.00 Byte)\n",
            "_________________________________________________________________\n",
            "Epoch 1/10\n",
            "1875/1875 [==============================] - 7s 3ms/step - loss: 0.5258 - sparse_categorical_accuracy: 0.8140\n",
            "Epoch 2/10\n",
            "1875/1875 [==============================] - 6s 3ms/step - loss: 0.4002 - sparse_categorical_accuracy: 0.8537\n",
            "Epoch 3/10\n",
            "1875/1875 [==============================] - 6s 3ms/step - loss: 0.3649 - sparse_categorical_accuracy: 0.8666\n",
            "Epoch 4/10\n",
            "1875/1875 [==============================] - 7s 4ms/step - loss: 0.3428 - sparse_categorical_accuracy: 0.8743\n",
            "Epoch 5/10\n",
            "1875/1875 [==============================] - 5s 3ms/step - loss: 0.3280 - sparse_categorical_accuracy: 0.8790\n",
            "Epoch 6/10\n",
            "1875/1875 [==============================] - 7s 4ms/step - loss: 0.3179 - sparse_categorical_accuracy: 0.8827\n",
            "Epoch 7/10\n",
            "1875/1875 [==============================] - 6s 3ms/step - loss: 0.3091 - sparse_categorical_accuracy: 0.8864\n",
            "Epoch 8/10\n",
            "1875/1875 [==============================] - 7s 4ms/step - loss: 0.2973 - sparse_categorical_accuracy: 0.8884\n",
            "Epoch 9/10\n",
            "1875/1875 [==============================] - 5s 3ms/step - loss: 0.2901 - sparse_categorical_accuracy: 0.8910\n",
            "Epoch 10/10\n",
            "1875/1875 [==============================] - 7s 4ms/step - loss: 0.2826 - sparse_categorical_accuracy: 0.8935\n",
            "313/313 [==============================] - 1s 2ms/step - loss: 0.3664 - sparse_categorical_accuracy: 0.8704\n",
            "Test accuracy: 0.8704000115394592\n"
          ]
        }
      ]
    },
    {
      "cell_type": "markdown",
      "source": [
        "# 7 activation, optimizer: adam"
      ],
      "metadata": {
        "id": "7y4F-lYNPSTu"
      }
    },
    {
      "cell_type": "markdown",
      "source": [
        "activation_functions = ['relu', 'LeakyReLU', 'elu', 'PReLU', 'sigmoid', 'tanh', 'softmax']\n",
        "\n",
        "*experiment of activation function here is only in input layer. output layer is softmax by default."
      ],
      "metadata": {
        "id": "IDiyciXOWQTh"
      }
    },
    {
      "cell_type": "markdown",
      "source": [
        "## relu"
      ],
      "metadata": {
        "id": "yCGiXXIVWIL7"
      }
    },
    {
      "cell_type": "code",
      "source": [
        "# 1. Defining the model\n",
        "model=tf.keras.models.Sequential()\n",
        "# 2. Adding a first fully connected hidden layer\n",
        "model.add(tf.keras.layers.Dense(units=128, activation='relu',input_shape=(784,)))\n",
        "# number of units/neurons: 128\n",
        "# activation function: ReLU\n",
        "# input_shape: (784,)\n",
        "# 3. Adding second layer with dropout\n",
        "model.add(tf.keras.layers.Dropout(0.2))\n",
        "# 4. Adding the output layer\n",
        "model.add(tf.keras.layers.Dense(units=10, activation='softmax'))\n",
        "# units: number of classes (10 in Fashion MNIST dataset)\n",
        "# activation: softmax\n",
        "# 5. Compiling the model\n",
        "model.compile(optimizer='adam', loss='sparse_categorical_crossentropy', metrics=['sparse_categorical_accuracy'])\n",
        "# Optimizer: Adam\n",
        "# Loss: Sparse softmax (categorical) crossentropy\n",
        "model.summary()\n",
        "# 6. Training the model\n",
        "model.fit(X_train, y_train, epochs=10)\n",
        "# 7. Model evaluation and prediction\n",
        "test_loss, test_accuracy=model.evaluate(X_test, y_test)\n",
        "print(\"Test accuracy: {}\".format(test_accuracy))\n"
      ],
      "metadata": {
        "colab": {
          "base_uri": "https://localhost:8080/"
        },
        "id": "jAOQKPQJXttZ",
        "outputId": "f0b6a745-07d4-4ae4-9bd3-5f21b90d1f85"
      },
      "execution_count": null,
      "outputs": [
        {
          "output_type": "stream",
          "name": "stdout",
          "text": [
            "Model: \"sequential_1\"\n",
            "_________________________________________________________________\n",
            " Layer (type)                Output Shape              Param #   \n",
            "=================================================================\n",
            " dense_2 (Dense)             (None, 128)               100480    \n",
            "                                                                 \n",
            " dropout_1 (Dropout)         (None, 128)               0         \n",
            "                                                                 \n",
            " dense_3 (Dense)             (None, 10)                1290      \n",
            "                                                                 \n",
            "=================================================================\n",
            "Total params: 101770 (397.54 KB)\n",
            "Trainable params: 101770 (397.54 KB)\n",
            "Non-trainable params: 0 (0.00 Byte)\n",
            "_________________________________________________________________\n",
            "Epoch 1/10\n",
            "1875/1875 [==============================] - 7s 4ms/step - loss: 0.5354 - sparse_categorical_accuracy: 0.8118\n",
            "Epoch 2/10\n",
            "1875/1875 [==============================] - 6s 3ms/step - loss: 0.4011 - sparse_categorical_accuracy: 0.8553\n",
            "Epoch 3/10\n",
            "1875/1875 [==============================] - 7s 4ms/step - loss: 0.3667 - sparse_categorical_accuracy: 0.8668\n",
            "Epoch 4/10\n",
            "1875/1875 [==============================] - 6s 3ms/step - loss: 0.3482 - sparse_categorical_accuracy: 0.8726\n",
            "Epoch 5/10\n",
            "1875/1875 [==============================] - 7s 4ms/step - loss: 0.3306 - sparse_categorical_accuracy: 0.8779\n",
            "Epoch 6/10\n",
            "1875/1875 [==============================] - 6s 3ms/step - loss: 0.3204 - sparse_categorical_accuracy: 0.8804\n",
            "Epoch 7/10\n",
            "1875/1875 [==============================] - 7s 4ms/step - loss: 0.3085 - sparse_categorical_accuracy: 0.8848\n",
            "Epoch 8/10\n",
            "1875/1875 [==============================] - 5s 3ms/step - loss: 0.2994 - sparse_categorical_accuracy: 0.8889\n",
            "Epoch 9/10\n",
            "1875/1875 [==============================] - 7s 4ms/step - loss: 0.2897 - sparse_categorical_accuracy: 0.8915\n",
            "Epoch 10/10\n",
            "1875/1875 [==============================] - 5s 3ms/step - loss: 0.2843 - sparse_categorical_accuracy: 0.8930\n",
            "313/313 [==============================] - 1s 2ms/step - loss: 0.3537 - sparse_categorical_accuracy: 0.8732\n",
            "Test accuracy: 0.873199999332428\n"
          ]
        }
      ]
    },
    {
      "cell_type": "markdown",
      "source": [
        "## LeakyReLU"
      ],
      "metadata": {
        "id": "-E-YX7VSWLJW"
      }
    },
    {
      "cell_type": "code",
      "source": [
        "# 1. Defining the model\n",
        "model=tf.keras.models.Sequential()\n",
        "# 2. Adding a first fully connected hidden layer\n",
        "model.add(tf.keras.layers.Dense(units=128, activation='LeakyReLU',input_shape=(784,)))\n",
        "# number of units/neurons: 128\n",
        "# activation function: LeakyReLU\n",
        "# input_shape: (784,)\n",
        "# 3. Adding second layer with dropout\n",
        "model.add(tf.keras.layers.Dropout(0.2))\n",
        "# 4. Adding the output layer\n",
        "model.add(tf.keras.layers.Dense(units=10, activation='softmax'))\n",
        "# units: number of classes (10 in Fashion MNIST dataset)\n",
        "# activation: softmax\n",
        "# 5. Compiling the model\n",
        "model.compile(optimizer='adam', loss='sparse_categorical_crossentropy', metrics=['sparse_categorical_accuracy'])\n",
        "# Optimizer: Adam\n",
        "# Loss: Sparse softmax (categorical) crossentropy\n",
        "model.summary()\n",
        "# 6. Training the model\n",
        "model.fit(X_train, y_train, epochs=10)\n",
        "# 7. Model evaluation and prediction\n",
        "test_loss, test_accuracy=model.evaluate(X_test, y_test)\n",
        "print(\"Test accuracy: {}\".format(test_accuracy))\n"
      ],
      "metadata": {
        "colab": {
          "base_uri": "https://localhost:8080/"
        },
        "id": "qe7v6z-WX6rM",
        "outputId": "1e280f40-5c54-4158-bb74-ad89cc1326f2"
      },
      "execution_count": null,
      "outputs": [
        {
          "output_type": "stream",
          "name": "stdout",
          "text": [
            "Model: \"sequential_4\"\n",
            "_________________________________________________________________\n",
            " Layer (type)                Output Shape              Param #   \n",
            "=================================================================\n",
            " dense_6 (Dense)             (None, 128)               100480    \n",
            "                                                                 \n",
            " dropout_2 (Dropout)         (None, 128)               0         \n",
            "                                                                 \n",
            " dense_7 (Dense)             (None, 10)                1290      \n",
            "                                                                 \n",
            "=================================================================\n",
            "Total params: 101770 (397.54 KB)\n",
            "Trainable params: 101770 (397.54 KB)\n",
            "Non-trainable params: 0 (0.00 Byte)\n",
            "_________________________________________________________________\n",
            "Epoch 1/10\n",
            "1875/1875 [==============================] - 7s 4ms/step - loss: 0.5351 - sparse_categorical_accuracy: 0.8114\n",
            "Epoch 2/10\n",
            "1875/1875 [==============================] - 5s 3ms/step - loss: 0.4278 - sparse_categorical_accuracy: 0.8471\n",
            "Epoch 3/10\n",
            "1875/1875 [==============================] - 7s 4ms/step - loss: 0.3964 - sparse_categorical_accuracy: 0.8566\n",
            "Epoch 4/10\n",
            "1875/1875 [==============================] - 5s 3ms/step - loss: 0.3843 - sparse_categorical_accuracy: 0.8622\n",
            "Epoch 5/10\n",
            "1875/1875 [==============================] - 6s 3ms/step - loss: 0.3698 - sparse_categorical_accuracy: 0.8658\n",
            "Epoch 6/10\n",
            "1875/1875 [==============================] - 6s 3ms/step - loss: 0.3603 - sparse_categorical_accuracy: 0.8698\n",
            "Epoch 7/10\n",
            "1875/1875 [==============================] - 6s 3ms/step - loss: 0.3532 - sparse_categorical_accuracy: 0.8722\n",
            "Epoch 8/10\n",
            "1875/1875 [==============================] - 7s 4ms/step - loss: 0.3482 - sparse_categorical_accuracy: 0.8725\n",
            "Epoch 9/10\n",
            "1875/1875 [==============================] - 6s 3ms/step - loss: 0.3424 - sparse_categorical_accuracy: 0.8748\n",
            "Epoch 10/10\n",
            "1875/1875 [==============================] - 6s 3ms/step - loss: 0.3369 - sparse_categorical_accuracy: 0.8781\n",
            "313/313 [==============================] - 1s 2ms/step - loss: 0.3705 - sparse_categorical_accuracy: 0.8698\n",
            "Test accuracy: 0.8697999715805054\n"
          ]
        }
      ]
    },
    {
      "cell_type": "markdown",
      "source": [
        "## elu"
      ],
      "metadata": {
        "id": "dmLk0iq7Whct"
      }
    },
    {
      "cell_type": "code",
      "source": [
        "# 1. Defining the model\n",
        "model=tf.keras.models.Sequential()\n",
        "# 2. Adding a first fully connected hidden layer\n",
        "model.add(tf.keras.layers.Dense(units=128, activation='elu',input_shape=(784,)))\n",
        "# number of units/neurons: 128\n",
        "# activation function: elu\n",
        "# input_shape: (784,)\n",
        "# 3. Adding second layer with dropout\n",
        "model.add(tf.keras.layers.Dropout(0.2))\n",
        "# 4. Adding the output layer\n",
        "model.add(tf.keras.layers.Dense(units=10, activation='softmax'))\n",
        "# units: number of classes (10 in Fashion MNIST dataset)\n",
        "# activation: softmax\n",
        "# 5. Compiling the model\n",
        "model.compile(optimizer='adam', loss='sparse_categorical_crossentropy', metrics=['sparse_categorical_accuracy'])\n",
        "# Optimizer: Adam\n",
        "# Loss: Sparse softmax (categorical) crossentropy\n",
        "model.summary()\n",
        "# 6. Training the model\n",
        "model.fit(X_train, y_train, epochs=10)\n",
        "# 7. Model evaluation and prediction\n",
        "test_loss, test_accuracy=model.evaluate(X_test, y_test)\n",
        "print(\"Test accuracy: {}\".format(test_accuracy))\n"
      ],
      "metadata": {
        "colab": {
          "base_uri": "https://localhost:8080/"
        },
        "id": "3STLLJ0UYapf",
        "outputId": "57ae3255-b4cf-4e4a-d683-e95d2228c49d"
      },
      "execution_count": null,
      "outputs": [
        {
          "output_type": "stream",
          "name": "stdout",
          "text": [
            "Model: \"sequential_5\"\n",
            "_________________________________________________________________\n",
            " Layer (type)                Output Shape              Param #   \n",
            "=================================================================\n",
            " dense_8 (Dense)             (None, 128)               100480    \n",
            "                                                                 \n",
            " dropout_3 (Dropout)         (None, 128)               0         \n",
            "                                                                 \n",
            " dense_9 (Dense)             (None, 10)                1290      \n",
            "                                                                 \n",
            "=================================================================\n",
            "Total params: 101770 (397.54 KB)\n",
            "Trainable params: 101770 (397.54 KB)\n",
            "Non-trainable params: 0 (0.00 Byte)\n",
            "_________________________________________________________________\n",
            "Epoch 1/10\n",
            "1875/1875 [==============================] - 9s 4ms/step - loss: 0.5258 - sparse_categorical_accuracy: 0.8133\n",
            "Epoch 2/10\n",
            "1875/1875 [==============================] - 6s 3ms/step - loss: 0.4159 - sparse_categorical_accuracy: 0.8510\n",
            "Epoch 3/10\n",
            "1875/1875 [==============================] - 5s 3ms/step - loss: 0.3800 - sparse_categorical_accuracy: 0.8618\n",
            "Epoch 4/10\n",
            "1875/1875 [==============================] - 7s 4ms/step - loss: 0.3585 - sparse_categorical_accuracy: 0.8685\n",
            "Epoch 5/10\n",
            "1875/1875 [==============================] - 6s 3ms/step - loss: 0.3414 - sparse_categorical_accuracy: 0.8761\n",
            "Epoch 6/10\n",
            "1875/1875 [==============================] - 7s 4ms/step - loss: 0.3301 - sparse_categorical_accuracy: 0.8769\n",
            "Epoch 7/10\n",
            "1875/1875 [==============================] - 6s 3ms/step - loss: 0.3207 - sparse_categorical_accuracy: 0.8801\n",
            "Epoch 8/10\n",
            "1875/1875 [==============================] - 7s 4ms/step - loss: 0.3106 - sparse_categorical_accuracy: 0.8849\n",
            "Epoch 9/10\n",
            "1875/1875 [==============================] - 6s 3ms/step - loss: 0.3003 - sparse_categorical_accuracy: 0.8877\n",
            "Epoch 10/10\n",
            "1875/1875 [==============================] - 7s 4ms/step - loss: 0.2941 - sparse_categorical_accuracy: 0.8889\n",
            "313/313 [==============================] - 1s 3ms/step - loss: 0.3328 - sparse_categorical_accuracy: 0.8789\n",
            "Test accuracy: 0.8788999915122986\n"
          ]
        }
      ]
    },
    {
      "cell_type": "markdown",
      "source": [
        "## PReLU"
      ],
      "metadata": {
        "id": "jInKca5ZWXOQ"
      }
    },
    {
      "cell_type": "code",
      "source": [
        "# 1. Defining the model\n",
        "model=tf.keras.models.Sequential()\n",
        "# 2. Adding a first fully connected hidden layer\n",
        "model.add(tf.keras.layers.Dense(units=128, activation='PReLU',input_shape=(784,)))\n",
        "# number of units/neurons: 128\n",
        "# activation function: PReLU\n",
        "# input_shape: (784,)\n",
        "# 3. Adding second layer with dropout\n",
        "model.add(tf.keras.layers.Dropout(0.2))\n",
        "# 4. Adding the output layer\n",
        "model.add(tf.keras.layers.Dense(units=10, activation='softmax'))\n",
        "# units: number of classes (10 in Fashion MNIST dataset)\n",
        "# activation: softmax\n",
        "# 5. Compiling the model\n",
        "model.compile(optimizer='adam', loss='sparse_categorical_crossentropy', metrics=['sparse_categorical_accuracy'])\n",
        "# Optimizer: Adam\n",
        "# Loss: Sparse softmax (categorical) crossentropy\n",
        "model.summary()\n",
        "# 6. Training the model\n",
        "model.fit(X_train, y_train, epochs=10)\n",
        "# 7. Model evaluation and prediction\n",
        "test_loss, test_accuracy=model.evaluate(X_test, y_test)\n",
        "print(\"Test accuracy: {}\".format(test_accuracy))\n"
      ],
      "metadata": {
        "colab": {
          "base_uri": "https://localhost:8080/"
        },
        "id": "_or_qFv0YfnY",
        "outputId": "be51bcbd-0fb3-46c9-b2b9-725016224dfc"
      },
      "execution_count": null,
      "outputs": [
        {
          "output_type": "stream",
          "name": "stdout",
          "text": [
            "Model: \"sequential_7\"\n",
            "_________________________________________________________________\n",
            " Layer (type)                Output Shape              Param #   \n",
            "=================================================================\n",
            " dense_11 (Dense)            (None, 128)               100608    \n",
            "                                                                 \n",
            " dropout_4 (Dropout)         (None, 128)               0         \n",
            "                                                                 \n",
            " dense_12 (Dense)            (None, 10)                1290      \n",
            "                                                                 \n",
            "=================================================================\n",
            "Total params: 101898 (398.04 KB)\n",
            "Trainable params: 101898 (398.04 KB)\n",
            "Non-trainable params: 0 (0.00 Byte)\n",
            "_________________________________________________________________\n",
            "Epoch 1/10\n",
            "1875/1875 [==============================] - 7s 4ms/step - loss: 0.5268 - sparse_categorical_accuracy: 0.8139\n",
            "Epoch 2/10\n",
            "1875/1875 [==============================] - 6s 3ms/step - loss: 0.4024 - sparse_categorical_accuracy: 0.8540\n",
            "Epoch 3/10\n",
            "1875/1875 [==============================] - 7s 4ms/step - loss: 0.3680 - sparse_categorical_accuracy: 0.8668\n",
            "Epoch 4/10\n",
            "1875/1875 [==============================] - 6s 3ms/step - loss: 0.3463 - sparse_categorical_accuracy: 0.8735\n",
            "Epoch 5/10\n",
            "1875/1875 [==============================] - 7s 4ms/step - loss: 0.3298 - sparse_categorical_accuracy: 0.8781\n",
            "Epoch 6/10\n",
            "1875/1875 [==============================] - 6s 3ms/step - loss: 0.3170 - sparse_categorical_accuracy: 0.8835\n",
            "Epoch 7/10\n",
            "1875/1875 [==============================] - 7s 3ms/step - loss: 0.3055 - sparse_categorical_accuracy: 0.8872\n",
            "Epoch 8/10\n",
            "1875/1875 [==============================] - 6s 3ms/step - loss: 0.2966 - sparse_categorical_accuracy: 0.8892\n",
            "Epoch 9/10\n",
            "1875/1875 [==============================] - 7s 4ms/step - loss: 0.2928 - sparse_categorical_accuracy: 0.8905\n",
            "Epoch 10/10\n",
            "1875/1875 [==============================] - 6s 3ms/step - loss: 0.2823 - sparse_categorical_accuracy: 0.8942\n",
            "313/313 [==============================] - 1s 3ms/step - loss: 0.3511 - sparse_categorical_accuracy: 0.8740\n",
            "Test accuracy: 0.8740000128746033\n"
          ]
        }
      ]
    },
    {
      "cell_type": "markdown",
      "source": [
        "## sigmoid"
      ],
      "metadata": {
        "id": "zelrQFkQWbyz"
      }
    },
    {
      "cell_type": "code",
      "source": [
        "# 1. Defining the model\n",
        "model=tf.keras.models.Sequential()\n",
        "# 2. Adding a first fully connected hidden layer\n",
        "model.add(tf.keras.layers.Dense(units=128, activation='sigmoid',input_shape=(784,)))\n",
        "# number of units/neurons: 128\n",
        "# activation function: sigmoid\n",
        "# input_shape: (784,)\n",
        "# 3. Adding second layer with dropout\n",
        "model.add(tf.keras.layers.Dropout(0.2))\n",
        "# 4. Adding the output layer\n",
        "model.add(tf.keras.layers.Dense(units=10, activation='softmax'))\n",
        "# units: number of classes (10 in Fashion MNIST dataset)\n",
        "# activation: softmax\n",
        "# 5. Compiling the model\n",
        "model.compile(optimizer='adam', loss='sparse_categorical_crossentropy', metrics=['sparse_categorical_accuracy'])\n",
        "# Optimizer: Adam\n",
        "# Loss: Sparse softmax (categorical) crossentropy\n",
        "model.summary()\n",
        "# 6. Training the model\n",
        "model.fit(X_train, y_train, epochs=10)\n",
        "# 7. Model evaluation and prediction\n",
        "test_loss, test_accuracy=model.evaluate(X_test, y_test)\n",
        "print(\"Test accuracy: {}\".format(test_accuracy))\n"
      ],
      "metadata": {
        "colab": {
          "base_uri": "https://localhost:8080/"
        },
        "id": "SimIXzfrYtxT",
        "outputId": "465c36ce-aad0-491b-d6c7-25c38a324382"
      },
      "execution_count": null,
      "outputs": [
        {
          "output_type": "stream",
          "name": "stdout",
          "text": [
            "Model: \"sequential_8\"\n",
            "_________________________________________________________________\n",
            " Layer (type)                Output Shape              Param #   \n",
            "=================================================================\n",
            " dense_13 (Dense)            (None, 128)               100480    \n",
            "                                                                 \n",
            " dropout_5 (Dropout)         (None, 128)               0         \n",
            "                                                                 \n",
            " dense_14 (Dense)            (None, 10)                1290      \n",
            "                                                                 \n",
            "=================================================================\n",
            "Total params: 101770 (397.54 KB)\n",
            "Trainable params: 101770 (397.54 KB)\n",
            "Non-trainable params: 0 (0.00 Byte)\n",
            "_________________________________________________________________\n",
            "Epoch 1/10\n",
            "1875/1875 [==============================] - 7s 3ms/step - loss: 0.5826 - sparse_categorical_accuracy: 0.7983\n",
            "Epoch 2/10\n",
            "1875/1875 [==============================] - 7s 4ms/step - loss: 0.4224 - sparse_categorical_accuracy: 0.8482\n",
            "Epoch 3/10\n",
            "1875/1875 [==============================] - 6s 3ms/step - loss: 0.3847 - sparse_categorical_accuracy: 0.8601\n",
            "Epoch 4/10\n",
            "1875/1875 [==============================] - 7s 4ms/step - loss: 0.3608 - sparse_categorical_accuracy: 0.8691\n",
            "Epoch 5/10\n",
            "1875/1875 [==============================] - 6s 3ms/step - loss: 0.3423 - sparse_categorical_accuracy: 0.8754\n",
            "Epoch 6/10\n",
            "1875/1875 [==============================] - 7s 3ms/step - loss: 0.3272 - sparse_categorical_accuracy: 0.8802\n",
            "Epoch 7/10\n",
            "1875/1875 [==============================] - 5s 3ms/step - loss: 0.3181 - sparse_categorical_accuracy: 0.8843\n",
            "Epoch 8/10\n",
            "1875/1875 [==============================] - 7s 4ms/step - loss: 0.3054 - sparse_categorical_accuracy: 0.8882\n",
            "Epoch 9/10\n",
            "1875/1875 [==============================] - 5s 3ms/step - loss: 0.2981 - sparse_categorical_accuracy: 0.8906\n",
            "Epoch 10/10\n",
            "1875/1875 [==============================] - 7s 4ms/step - loss: 0.2913 - sparse_categorical_accuracy: 0.8931\n",
            "313/313 [==============================] - 1s 2ms/step - loss: 0.3286 - sparse_categorical_accuracy: 0.8819\n",
            "Test accuracy: 0.8819000124931335\n"
          ]
        }
      ]
    },
    {
      "cell_type": "markdown",
      "source": [
        "## tanh"
      ],
      "metadata": {
        "id": "vCKhCTqGWjbA"
      }
    },
    {
      "cell_type": "code",
      "source": [
        "# 1. Defining the model\n",
        "model=tf.keras.models.Sequential()\n",
        "# 2. Adding a first fully connected hidden layer\n",
        "model.add(tf.keras.layers.Dense(units=128, activation='tanh',input_shape=(784,)))\n",
        "# number of units/neurons: 128\n",
        "# activation function: tanh\n",
        "# input_shape: (784,)\n",
        "# 3. Adding second layer with dropout\n",
        "model.add(tf.keras.layers.Dropout(0.2))\n",
        "# 4. Adding the output layer\n",
        "model.add(tf.keras.layers.Dense(units=10, activation='softmax'))\n",
        "# units: number of classes (10 in Fashion MNIST dataset)\n",
        "# activation: softmax\n",
        "# 5. Compiling the model\n",
        "model.compile(optimizer='adam', loss='sparse_categorical_crossentropy', metrics=['sparse_categorical_accuracy'])\n",
        "# Optimizer: Adam\n",
        "# Loss: Sparse softmax (categorical) crossentropy\n",
        "model.summary()\n",
        "# 6. Training the model\n",
        "model.fit(X_train, y_train, epochs=10)\n",
        "# 7. Model evaluation and prediction\n",
        "test_loss, test_accuracy=model.evaluate(X_test, y_test)\n",
        "print(\"Test accuracy: {}\".format(test_accuracy))\n"
      ],
      "metadata": {
        "colab": {
          "base_uri": "https://localhost:8080/"
        },
        "id": "BaZK3MWKYxpg",
        "outputId": "579f3b92-bdd6-4952-a066-246685245988"
      },
      "execution_count": null,
      "outputs": [
        {
          "output_type": "stream",
          "name": "stdout",
          "text": [
            "Model: \"sequential_9\"\n",
            "_________________________________________________________________\n",
            " Layer (type)                Output Shape              Param #   \n",
            "=================================================================\n",
            " dense_15 (Dense)            (None, 128)               100480    \n",
            "                                                                 \n",
            " dropout_6 (Dropout)         (None, 128)               0         \n",
            "                                                                 \n",
            " dense_16 (Dense)            (None, 10)                1290      \n",
            "                                                                 \n",
            "=================================================================\n",
            "Total params: 101770 (397.54 KB)\n",
            "Trainable params: 101770 (397.54 KB)\n",
            "Non-trainable params: 0 (0.00 Byte)\n",
            "_________________________________________________________________\n",
            "Epoch 1/10\n",
            "1875/1875 [==============================] - 6s 3ms/step - loss: 0.5164 - sparse_categorical_accuracy: 0.8152\n",
            "Epoch 2/10\n",
            "1875/1875 [==============================] - 7s 4ms/step - loss: 0.4144 - sparse_categorical_accuracy: 0.8497\n",
            "Epoch 3/10\n",
            "1875/1875 [==============================] - 5s 3ms/step - loss: 0.3817 - sparse_categorical_accuracy: 0.8612\n",
            "Epoch 4/10\n",
            "1875/1875 [==============================] - 6s 3ms/step - loss: 0.3646 - sparse_categorical_accuracy: 0.8668\n",
            "Epoch 5/10\n",
            "1875/1875 [==============================] - 5s 3ms/step - loss: 0.3517 - sparse_categorical_accuracy: 0.8701\n",
            "Epoch 6/10\n",
            "1875/1875 [==============================] - 6s 3ms/step - loss: 0.3393 - sparse_categorical_accuracy: 0.8752\n",
            "Epoch 7/10\n",
            "1875/1875 [==============================] - 5s 3ms/step - loss: 0.3317 - sparse_categorical_accuracy: 0.8783\n",
            "Epoch 8/10\n",
            "1875/1875 [==============================] - 6s 3ms/step - loss: 0.3221 - sparse_categorical_accuracy: 0.8814\n",
            "Epoch 9/10\n",
            "1875/1875 [==============================] - 6s 3ms/step - loss: 0.3150 - sparse_categorical_accuracy: 0.8834\n",
            "Epoch 10/10\n",
            "1875/1875 [==============================] - 6s 3ms/step - loss: 0.3060 - sparse_categorical_accuracy: 0.8869\n",
            "313/313 [==============================] - 1s 3ms/step - loss: 0.3695 - sparse_categorical_accuracy: 0.8652\n",
            "Test accuracy: 0.8651999831199646\n"
          ]
        }
      ]
    },
    {
      "cell_type": "markdown",
      "source": [
        "## softmax"
      ],
      "metadata": {
        "id": "w7xMTdFrWnoo"
      }
    },
    {
      "cell_type": "code",
      "source": [
        "# 1. Defining the model\n",
        "model=tf.keras.models.Sequential()\n",
        "# 2. Adding a first fully connected hidden layer\n",
        "model.add(tf.keras.layers.Dense(units=128, activation='softmax',input_shape=(784,)))\n",
        "# number of units/neurons: 128\n",
        "# activation function: softmax\n",
        "# input_shape: (784,)\n",
        "# 3. Adding second layer with dropout\n",
        "model.add(tf.keras.layers.Dropout(0.2))\n",
        "# 4. Adding the output layer\n",
        "model.add(tf.keras.layers.Dense(units=10, activation='softmax'))\n",
        "# units: number of classes (10 in Fashion MNIST dataset)\n",
        "# activation: softmax\n",
        "# 5. Compiling the model\n",
        "model.compile(optimizer='adam', loss='sparse_categorical_crossentropy', metrics=['sparse_categorical_accuracy'])\n",
        "# Optimizer: Adam\n",
        "# Loss: Sparse softmax (categorical) crossentropy\n",
        "model.summary()\n",
        "# 6. Training the model\n",
        "model.fit(X_train, y_train, epochs=10)\n",
        "# 7. Model evaluation and prediction\n",
        "test_loss, test_accuracy=model.evaluate(X_test, y_test)\n",
        "print(\"Test accuracy: {}\".format(test_accuracy))\n"
      ],
      "metadata": {
        "colab": {
          "base_uri": "https://localhost:8080/"
        },
        "id": "a-hYIVr-ZL7W",
        "outputId": "ecffc7f9-7ac8-4303-c638-7223141fcf18"
      },
      "execution_count": null,
      "outputs": [
        {
          "output_type": "stream",
          "name": "stdout",
          "text": [
            "Model: \"sequential_10\"\n",
            "_________________________________________________________________\n",
            " Layer (type)                Output Shape              Param #   \n",
            "=================================================================\n",
            " dense_17 (Dense)            (None, 128)               100480    \n",
            "                                                                 \n",
            " dropout_7 (Dropout)         (None, 128)               0         \n",
            "                                                                 \n",
            " dense_18 (Dense)            (None, 10)                1290      \n",
            "                                                                 \n",
            "=================================================================\n",
            "Total params: 101770 (397.54 KB)\n",
            "Trainable params: 101770 (397.54 KB)\n",
            "Non-trainable params: 0 (0.00 Byte)\n",
            "_________________________________________________________________\n",
            "Epoch 1/10\n",
            "1875/1875 [==============================] - 7s 3ms/step - loss: 1.4593 - sparse_categorical_accuracy: 0.5673\n",
            "Epoch 2/10\n",
            "1875/1875 [==============================] - 7s 4ms/step - loss: 1.0110 - sparse_categorical_accuracy: 0.6140\n",
            "Epoch 3/10\n",
            "1875/1875 [==============================] - 6s 3ms/step - loss: 0.9389 - sparse_categorical_accuracy: 0.6219\n",
            "Epoch 4/10\n",
            "1875/1875 [==============================] - 7s 4ms/step - loss: 0.9080 - sparse_categorical_accuracy: 0.6330\n",
            "Epoch 5/10\n",
            "1875/1875 [==============================] - 6s 3ms/step - loss: 0.8814 - sparse_categorical_accuracy: 0.6395\n",
            "Epoch 6/10\n",
            "1875/1875 [==============================] - 7s 4ms/step - loss: 0.8657 - sparse_categorical_accuracy: 0.6490\n",
            "Epoch 7/10\n",
            "1875/1875 [==============================] - 6s 3ms/step - loss: 0.8455 - sparse_categorical_accuracy: 0.6621\n",
            "Epoch 8/10\n",
            "1875/1875 [==============================] - 7s 4ms/step - loss: 0.8365 - sparse_categorical_accuracy: 0.6768\n",
            "Epoch 9/10\n",
            "1875/1875 [==============================] - 6s 3ms/step - loss: 0.8077 - sparse_categorical_accuracy: 0.6982\n",
            "Epoch 10/10\n",
            "1875/1875 [==============================] - 7s 4ms/step - loss: 0.7548 - sparse_categorical_accuracy: 0.7335\n",
            "313/313 [==============================] - 1s 2ms/step - loss: 0.5421 - sparse_categorical_accuracy: 0.8176\n",
            "Test accuracy: 0.8176000118255615\n"
          ]
        }
      ]
    },
    {
      "cell_type": "markdown",
      "source": [
        "## Conclusion:\n",
        "Best activation function = sigmoid. Test accuracy: 0.8819000124931335"
      ],
      "metadata": {
        "id": "ekwipr3RcmD0"
      }
    },
    {
      "cell_type": "markdown",
      "source": [
        "# Best activation function: Sigmoid, 8 optimizer"
      ],
      "metadata": {
        "id": "biT9GYJzPXR0"
      }
    },
    {
      "cell_type": "markdown",
      "source": [
        "optimizers = ['SGD', 'SGD with Momentum', 'RMSProp', 'Adam', 'Adamax', 'Nadam', 'AdaGrad', 'AdaDelta']\n"
      ],
      "metadata": {
        "id": "orHtfzfHWa7y"
      }
    },
    {
      "cell_type": "markdown",
      "source": [
        "## SGD"
      ],
      "metadata": {
        "id": "hq36bNFrW1i9"
      }
    },
    {
      "cell_type": "code",
      "source": [
        "# 1. Defining the model\n",
        "model=tf.keras.models.Sequential()\n",
        "# 2. Adding a first fully connected hidden layer\n",
        "model.add(tf.keras.layers.Dense(units=128, activation='sigmoid',input_shape=(784,)))\n",
        "# number of units/neurons: 128\n",
        "# activation function: sigmoid\n",
        "# input_shape: (784,)\n",
        "# 3. Adding second layer with dropout\n",
        "model.add(tf.keras.layers.Dropout(0.2))\n",
        "# 4. Adding the output layer\n",
        "model.add(tf.keras.layers.Dense(units=10, activation='softmax'))\n",
        "# units: number of classes (10 in Fashion MNIST dataset)\n",
        "# activation: softmax\n",
        "# 5. Compiling the model\n",
        "model.compile(optimizer='SGD', loss='sparse_categorical_crossentropy', metrics=['sparse_categorical_accuracy'])\n",
        "# Optimizer: SGD\n",
        "# Loss: Sparse softmax (categorical) crossentropy\n",
        "model.summary()\n",
        "# 6. Training the model\n",
        "model.fit(X_train, y_train, epochs=10)\n",
        "# 7. Model evaluation and prediction\n",
        "test_loss, test_accuracy=model.evaluate(X_test, y_test)\n",
        "print(\"Test accuracy: {}\".format(test_accuracy))\n"
      ],
      "metadata": {
        "colab": {
          "base_uri": "https://localhost:8080/"
        },
        "id": "MeSWdO3ffzFB",
        "outputId": "52ac953f-4df9-4c75-cbeb-7f0813bb6c6f"
      },
      "execution_count": null,
      "outputs": [
        {
          "output_type": "stream",
          "name": "stdout",
          "text": [
            "Model: \"sequential_19\"\n",
            "_________________________________________________________________\n",
            " Layer (type)                Output Shape              Param #   \n",
            "=================================================================\n",
            " dense_35 (Dense)            (None, 128)               100480    \n",
            "                                                                 \n",
            " dropout_16 (Dropout)        (None, 128)               0         \n",
            "                                                                 \n",
            " dense_36 (Dense)            (None, 10)                1290      \n",
            "                                                                 \n",
            "=================================================================\n",
            "Total params: 101770 (397.54 KB)\n",
            "Trainable params: 101770 (397.54 KB)\n",
            "Non-trainable params: 0 (0.00 Byte)\n",
            "_________________________________________________________________\n",
            "Epoch 1/10\n",
            "1875/1875 [==============================] - 5s 3ms/step - loss: 1.3424 - sparse_categorical_accuracy: 0.5783\n",
            "Epoch 2/10\n",
            "1875/1875 [==============================] - 4s 2ms/step - loss: 0.8298 - sparse_categorical_accuracy: 0.7209\n",
            "Epoch 3/10\n",
            "1875/1875 [==============================] - 4s 2ms/step - loss: 0.7171 - sparse_categorical_accuracy: 0.7483\n",
            "Epoch 4/10\n",
            "1875/1875 [==============================] - 5s 3ms/step - loss: 0.6621 - sparse_categorical_accuracy: 0.7656\n",
            "Epoch 5/10\n",
            "1875/1875 [==============================] - 4s 2ms/step - loss: 0.6247 - sparse_categorical_accuracy: 0.7771\n",
            "Epoch 6/10\n",
            "1875/1875 [==============================] - 4s 2ms/step - loss: 0.6001 - sparse_categorical_accuracy: 0.7858\n",
            "Epoch 7/10\n",
            "1875/1875 [==============================] - 5s 3ms/step - loss: 0.5790 - sparse_categorical_accuracy: 0.7934\n",
            "Epoch 8/10\n",
            "1875/1875 [==============================] - 4s 2ms/step - loss: 0.5613 - sparse_categorical_accuracy: 0.7995\n",
            "Epoch 9/10\n",
            "1875/1875 [==============================] - 4s 2ms/step - loss: 0.5478 - sparse_categorical_accuracy: 0.8031\n",
            "Epoch 10/10\n",
            "1875/1875 [==============================] - 5s 3ms/step - loss: 0.5377 - sparse_categorical_accuracy: 0.8066\n",
            "313/313 [==============================] - 1s 2ms/step - loss: 0.5198 - sparse_categorical_accuracy: 0.8122\n",
            "Test accuracy: 0.8122000098228455\n"
          ]
        }
      ]
    },
    {
      "cell_type": "markdown",
      "source": [
        "## SGD with Momentum"
      ],
      "metadata": {
        "id": "PsCBwAiGW7qv"
      }
    },
    {
      "cell_type": "code",
      "source": [
        "# 1. Defining the model\n",
        "model=tf.keras.models.Sequential()\n",
        "# 2. Adding a first fully connected hidden layer\n",
        "model.add(tf.keras.layers.Dense(units=128, activation='sigmoid',input_shape=(784,)))\n",
        "# number of units/neurons: 128\n",
        "# activation function: sigmoid\n",
        "# input_shape: (784,)\n",
        "# 3. Adding second layer with dropout\n",
        "model.add(tf.keras.layers.Dropout(0.2))\n",
        "# 4. Adding the output layer\n",
        "model.add(tf.keras.layers.Dense(units=10, activation='softmax'))\n",
        "# units: number of classes (10 in Fashion MNIST dataset)\n",
        "# activation: softmax\n",
        "# 5. Compiling the model\n",
        "SGDm = tf.keras.optimizers.SGD(learning_rate=0.01, momentum=0.9)\n",
        "model.compile(optimizer=SGDm, loss='sparse_categorical_crossentropy', metrics=['sparse_categorical_accuracy'])\n",
        "# Optimizer: Adam\n",
        "# Loss: Sparse softmax (categorical) crossentropy\n",
        "model.summary()\n",
        "# 6. Training the model\n",
        "model.fit(X_train, y_train, epochs=10)\n",
        "# 7. Model evaluation and prediction\n",
        "test_loss, test_accuracy=model.evaluate(X_test, y_test)\n",
        "print(\"Test accuracy: {}\".format(test_accuracy))\n"
      ],
      "metadata": {
        "colab": {
          "base_uri": "https://localhost:8080/"
        },
        "id": "QVVBB20PPfkl",
        "outputId": "db9b2a79-caeb-4fc7-efee-de1ec27d5f4a"
      },
      "execution_count": null,
      "outputs": [
        {
          "output_type": "stream",
          "name": "stdout",
          "text": [
            "Model: \"sequential_12\"\n",
            "_________________________________________________________________\n",
            " Layer (type)                Output Shape              Param #   \n",
            "=================================================================\n",
            " dense_21 (Dense)            (None, 128)               100480    \n",
            "                                                                 \n",
            " dropout_9 (Dropout)         (None, 128)               0         \n",
            "                                                                 \n",
            " dense_22 (Dense)            (None, 10)                1290      \n",
            "                                                                 \n",
            "=================================================================\n",
            "Total params: 101770 (397.54 KB)\n",
            "Trainable params: 101770 (397.54 KB)\n",
            "Non-trainable params: 0 (0.00 Byte)\n",
            "_________________________________________________________________\n",
            "Epoch 1/10\n",
            "1875/1875 [==============================] - 5s 2ms/step - loss: 0.7217 - sparse_categorical_accuracy: 0.7455\n",
            "Epoch 2/10\n",
            "1875/1875 [==============================] - 6s 3ms/step - loss: 0.5107 - sparse_categorical_accuracy: 0.8157\n",
            "Epoch 3/10\n",
            "1875/1875 [==============================] - 4s 2ms/step - loss: 0.4689 - sparse_categorical_accuracy: 0.8311\n",
            "Epoch 4/10\n",
            "1875/1875 [==============================] - 5s 3ms/step - loss: 0.4433 - sparse_categorical_accuracy: 0.8397\n",
            "Epoch 5/10\n",
            "1875/1875 [==============================] - 5s 2ms/step - loss: 0.4259 - sparse_categorical_accuracy: 0.8469\n",
            "Epoch 6/10\n",
            "1875/1875 [==============================] - 5s 2ms/step - loss: 0.4135 - sparse_categorical_accuracy: 0.8505\n",
            "Epoch 7/10\n",
            "1875/1875 [==============================] - 5s 3ms/step - loss: 0.4007 - sparse_categorical_accuracy: 0.8552\n",
            "Epoch 8/10\n",
            "1875/1875 [==============================] - 5s 3ms/step - loss: 0.3930 - sparse_categorical_accuracy: 0.8589\n",
            "Epoch 9/10\n",
            "1875/1875 [==============================] - 6s 3ms/step - loss: 0.3847 - sparse_categorical_accuracy: 0.8610\n",
            "Epoch 10/10\n",
            "1875/1875 [==============================] - 5s 3ms/step - loss: 0.3774 - sparse_categorical_accuracy: 0.8635\n",
            "313/313 [==============================] - 1s 2ms/step - loss: 0.3941 - sparse_categorical_accuracy: 0.8611\n",
            "Test accuracy: 0.8611000180244446\n"
          ]
        }
      ]
    },
    {
      "cell_type": "markdown",
      "source": [
        "## RMSProp"
      ],
      "metadata": {
        "id": "YyyKOsgZW8s7"
      }
    },
    {
      "cell_type": "code",
      "source": [
        "# 1. Defining the model\n",
        "model=tf.keras.models.Sequential()\n",
        "# 2. Adding a first fully connected hidden layer\n",
        "model.add(tf.keras.layers.Dense(units=128, activation='sigmoid',input_shape=(784,)))\n",
        "# number of units/neurons: 128\n",
        "# activation function: sigmoid\n",
        "# input_shape: (784,)\n",
        "# 3. Adding second layer with dropout\n",
        "model.add(tf.keras.layers.Dropout(0.2))\n",
        "# 4. Adding the output layer\n",
        "model.add(tf.keras.layers.Dense(units=10, activation='softmax'))\n",
        "# units: number of classes (10 in Fashion MNIST dataset)\n",
        "# activation: softmax\n",
        "# 5. Compiling the model\n",
        "model.compile(optimizer='RMSProp', loss='sparse_categorical_crossentropy', metrics=['sparse_categorical_accuracy'])\n",
        "# Optimizer: RMSProp\n",
        "# Loss: Sparse softmax (categorical) crossentropy\n",
        "model.summary()\n",
        "# 6. Training the model\n",
        "model.fit(X_train, y_train, epochs=10)\n",
        "# 7. Model evaluation and prediction\n",
        "test_loss, test_accuracy=model.evaluate(X_test, y_test)\n",
        "print(\"Test accuracy: {}\".format(test_accuracy))\n"
      ],
      "metadata": {
        "colab": {
          "base_uri": "https://localhost:8080/"
        },
        "id": "xVw_bfajW-GK",
        "outputId": "78fb1559-2ed0-43d1-9cef-d860cd3a67fc"
      },
      "execution_count": null,
      "outputs": [
        {
          "output_type": "stream",
          "name": "stdout",
          "text": [
            "Model: \"sequential_13\"\n",
            "_________________________________________________________________\n",
            " Layer (type)                Output Shape              Param #   \n",
            "=================================================================\n",
            " dense_23 (Dense)            (None, 128)               100480    \n",
            "                                                                 \n",
            " dropout_10 (Dropout)        (None, 128)               0         \n",
            "                                                                 \n",
            " dense_24 (Dense)            (None, 10)                1290      \n",
            "                                                                 \n",
            "=================================================================\n",
            "Total params: 101770 (397.54 KB)\n",
            "Trainable params: 101770 (397.54 KB)\n",
            "Non-trainable params: 0 (0.00 Byte)\n",
            "_________________________________________________________________\n",
            "Epoch 1/10\n",
            "1875/1875 [==============================] - 6s 3ms/step - loss: 0.5714 - sparse_categorical_accuracy: 0.7996\n",
            "Epoch 2/10\n",
            "1875/1875 [==============================] - 6s 3ms/step - loss: 0.4264 - sparse_categorical_accuracy: 0.8464\n",
            "Epoch 3/10\n",
            "1875/1875 [==============================] - 5s 3ms/step - loss: 0.3918 - sparse_categorical_accuracy: 0.8585\n",
            "Epoch 4/10\n",
            "1875/1875 [==============================] - 7s 4ms/step - loss: 0.3714 - sparse_categorical_accuracy: 0.8658\n",
            "Epoch 5/10\n",
            "1875/1875 [==============================] - 6s 3ms/step - loss: 0.3567 - sparse_categorical_accuracy: 0.8716\n",
            "Epoch 6/10\n",
            "1875/1875 [==============================] - 7s 4ms/step - loss: 0.3441 - sparse_categorical_accuracy: 0.8766\n",
            "Epoch 7/10\n",
            "1875/1875 [==============================] - 5s 3ms/step - loss: 0.3345 - sparse_categorical_accuracy: 0.8795\n",
            "Epoch 8/10\n",
            "1875/1875 [==============================] - 6s 3ms/step - loss: 0.3246 - sparse_categorical_accuracy: 0.8840\n",
            "Epoch 9/10\n",
            "1875/1875 [==============================] - 5s 3ms/step - loss: 0.3173 - sparse_categorical_accuracy: 0.8860\n",
            "Epoch 10/10\n",
            "1875/1875 [==============================] - 6s 3ms/step - loss: 0.3095 - sparse_categorical_accuracy: 0.8885\n",
            "313/313 [==============================] - 1s 3ms/step - loss: 0.3562 - sparse_categorical_accuracy: 0.8732\n",
            "Test accuracy: 0.873199999332428\n"
          ]
        }
      ]
    },
    {
      "cell_type": "markdown",
      "source": [
        "## adam"
      ],
      "metadata": {
        "id": "Cxo95n7-W-vH"
      }
    },
    {
      "cell_type": "code",
      "source": [
        "# 1. Defining the model\n",
        "model=tf.keras.models.Sequential()\n",
        "# 2. Adding a first fully connected hidden layer\n",
        "model.add(tf.keras.layers.Dense(units=128, activation='sigmoid',input_shape=(784,)))\n",
        "# number of units/neurons: 128\n",
        "# activation function: sigmoid\n",
        "# input_shape: (784,)\n",
        "# 3. Adding second layer with dropout\n",
        "model.add(tf.keras.layers.Dropout(0.2))\n",
        "# 4. Adding the output layer\n",
        "model.add(tf.keras.layers.Dense(units=10, activation='softmax'))\n",
        "# units: number of classes (10 in Fashion MNIST dataset)\n",
        "# activation: softmax\n",
        "# 5. Compiling the model\n",
        "model.compile(optimizer='adam', loss='sparse_categorical_crossentropy', metrics=['sparse_categorical_accuracy'])\n",
        "# Optimizer: Adam\n",
        "# Loss: Sparse softmax (categorical) crossentropy\n",
        "model.summary()\n",
        "# 6. Training the model\n",
        "model.fit(X_train, y_train, epochs=10)\n",
        "# 7. Model evaluation and prediction\n",
        "test_loss, test_accuracy=model.evaluate(X_test, y_test)\n",
        "print(\"Test accuracy: {}\".format(test_accuracy))\n"
      ],
      "metadata": {
        "colab": {
          "base_uri": "https://localhost:8080/"
        },
        "id": "dFTTph_5efBj",
        "outputId": "1310baae-7f49-40d9-b393-f272c114927d"
      },
      "execution_count": null,
      "outputs": [
        {
          "output_type": "stream",
          "name": "stdout",
          "text": [
            "Model: \"sequential_14\"\n",
            "_________________________________________________________________\n",
            " Layer (type)                Output Shape              Param #   \n",
            "=================================================================\n",
            " dense_25 (Dense)            (None, 128)               100480    \n",
            "                                                                 \n",
            " dropout_11 (Dropout)        (None, 128)               0         \n",
            "                                                                 \n",
            " dense_26 (Dense)            (None, 10)                1290      \n",
            "                                                                 \n",
            "=================================================================\n",
            "Total params: 101770 (397.54 KB)\n",
            "Trainable params: 101770 (397.54 KB)\n",
            "Non-trainable params: 0 (0.00 Byte)\n",
            "_________________________________________________________________\n",
            "Epoch 1/10\n",
            "1875/1875 [==============================] - 6s 3ms/step - loss: 0.5804 - sparse_categorical_accuracy: 0.7982\n",
            "Epoch 2/10\n",
            "1875/1875 [==============================] - 7s 4ms/step - loss: 0.4197 - sparse_categorical_accuracy: 0.8485\n",
            "Epoch 3/10\n",
            "1875/1875 [==============================] - 6s 3ms/step - loss: 0.3839 - sparse_categorical_accuracy: 0.8616\n",
            "Epoch 4/10\n",
            "1875/1875 [==============================] - 7s 4ms/step - loss: 0.3588 - sparse_categorical_accuracy: 0.8702\n",
            "Epoch 5/10\n",
            "1875/1875 [==============================] - 5s 3ms/step - loss: 0.3408 - sparse_categorical_accuracy: 0.8753\n",
            "Epoch 6/10\n",
            "1875/1875 [==============================] - 7s 4ms/step - loss: 0.3269 - sparse_categorical_accuracy: 0.8801\n",
            "Epoch 7/10\n",
            "1875/1875 [==============================] - 5s 3ms/step - loss: 0.3168 - sparse_categorical_accuracy: 0.8844\n",
            "Epoch 8/10\n",
            "1875/1875 [==============================] - 7s 3ms/step - loss: 0.3051 - sparse_categorical_accuracy: 0.8871\n",
            "Epoch 9/10\n",
            "1875/1875 [==============================] - 5s 3ms/step - loss: 0.2973 - sparse_categorical_accuracy: 0.8901\n",
            "Epoch 10/10\n",
            "1875/1875 [==============================] - 7s 4ms/step - loss: 0.2876 - sparse_categorical_accuracy: 0.8944\n",
            "313/313 [==============================] - 1s 2ms/step - loss: 0.3355 - sparse_categorical_accuracy: 0.8781\n",
            "Test accuracy: 0.8780999779701233\n"
          ]
        }
      ]
    },
    {
      "cell_type": "markdown",
      "source": [
        "## Adamax"
      ],
      "metadata": {
        "id": "_VxMiVzsXAPX"
      }
    },
    {
      "cell_type": "code",
      "source": [
        "# 1. Defining the model\n",
        "model=tf.keras.models.Sequential()\n",
        "# 2. Adding a first fully connected hidden layer\n",
        "model.add(tf.keras.layers.Dense(units=128, activation='sigmoid',input_shape=(784,)))\n",
        "# number of units/neurons: 128\n",
        "# activation function: sigmoid\n",
        "# input_shape: (784,)\n",
        "# 3. Adding second layer with dropout\n",
        "model.add(tf.keras.layers.Dropout(0.2))\n",
        "# 4. Adding the output layer\n",
        "model.add(tf.keras.layers.Dense(units=10, activation='softmax'))\n",
        "# units: number of classes (10 in Fashion MNIST dataset)\n",
        "# activation: softmax\n",
        "# 5. Compiling the model\n",
        "model.compile(optimizer='adamax', loss='sparse_categorical_crossentropy', metrics=['sparse_categorical_accuracy'])\n",
        "# Optimizer: Adamax\n",
        "# Loss: Sparse softmax (categorical) crossentropy\n",
        "model.summary()\n",
        "# 6. Training the model\n",
        "model.fit(X_train, y_train, epochs=10)\n",
        "# 7. Model evaluation and prediction\n",
        "test_loss, test_accuracy=model.evaluate(X_test, y_test)\n",
        "print(\"Test accuracy: {}\".format(test_accuracy))\n"
      ],
      "metadata": {
        "colab": {
          "base_uri": "https://localhost:8080/"
        },
        "id": "kjdXFvH2XBGo",
        "outputId": "24335312-79d8-4023-9e28-4071ca7f3687"
      },
      "execution_count": null,
      "outputs": [
        {
          "output_type": "stream",
          "name": "stdout",
          "text": [
            "Model: \"sequential_15\"\n",
            "_________________________________________________________________\n",
            " Layer (type)                Output Shape              Param #   \n",
            "=================================================================\n",
            " dense_27 (Dense)            (None, 128)               100480    \n",
            "                                                                 \n",
            " dropout_12 (Dropout)        (None, 128)               0         \n",
            "                                                                 \n",
            " dense_28 (Dense)            (None, 10)                1290      \n",
            "                                                                 \n",
            "=================================================================\n",
            "Total params: 101770 (397.54 KB)\n",
            "Trainable params: 101770 (397.54 KB)\n",
            "Non-trainable params: 0 (0.00 Byte)\n",
            "_________________________________________________________________\n",
            "Epoch 1/10\n",
            "1875/1875 [==============================] - 7s 3ms/step - loss: 0.7252 - sparse_categorical_accuracy: 0.7588\n",
            "Epoch 2/10\n",
            "1875/1875 [==============================] - 7s 4ms/step - loss: 0.4951 - sparse_categorical_accuracy: 0.8255\n",
            "Epoch 3/10\n",
            "1875/1875 [==============================] - 6s 3ms/step - loss: 0.4515 - sparse_categorical_accuracy: 0.8392\n",
            "Epoch 4/10\n",
            "1875/1875 [==============================] - 6s 3ms/step - loss: 0.4288 - sparse_categorical_accuracy: 0.8464\n",
            "Epoch 5/10\n",
            "1875/1875 [==============================] - 6s 3ms/step - loss: 0.4130 - sparse_categorical_accuracy: 0.8529\n",
            "Epoch 6/10\n",
            "1875/1875 [==============================] - 5s 3ms/step - loss: 0.3983 - sparse_categorical_accuracy: 0.8557\n",
            "Epoch 7/10\n",
            "1875/1875 [==============================] - 6s 3ms/step - loss: 0.3882 - sparse_categorical_accuracy: 0.8609\n",
            "Epoch 8/10\n",
            "1875/1875 [==============================] - 5s 3ms/step - loss: 0.3774 - sparse_categorical_accuracy: 0.8644\n",
            "Epoch 9/10\n",
            "1875/1875 [==============================] - 6s 3ms/step - loss: 0.3693 - sparse_categorical_accuracy: 0.8679\n",
            "Epoch 10/10\n",
            "1875/1875 [==============================] - 5s 3ms/step - loss: 0.3633 - sparse_categorical_accuracy: 0.8695\n",
            "313/313 [==============================] - 1s 2ms/step - loss: 0.3827 - sparse_categorical_accuracy: 0.8634\n",
            "Test accuracy: 0.8633999824523926\n"
          ]
        }
      ]
    },
    {
      "cell_type": "markdown",
      "source": [
        "## Nadam"
      ],
      "metadata": {
        "id": "CN0vsuonXBeW"
      }
    },
    {
      "cell_type": "code",
      "source": [
        "# 1. Defining the model\n",
        "model=tf.keras.models.Sequential()\n",
        "# 2. Adding a first fully connected hidden layer\n",
        "model.add(tf.keras.layers.Dense(units=128, activation='sigmoid',input_shape=(784,)))\n",
        "# number of units/neurons: 128\n",
        "# activation function: sigmoid\n",
        "# input_shape: (784,)\n",
        "# 3. Adding second layer with dropout\n",
        "model.add(tf.keras.layers.Dropout(0.2))\n",
        "# 4. Adding the output layer\n",
        "model.add(tf.keras.layers.Dense(units=10, activation='softmax'))\n",
        "# units: number of classes (10 in Fashion MNIST dataset)\n",
        "# activation: softmax\n",
        "# 5. Compiling the model\n",
        "model.compile(optimizer='nadam', loss='sparse_categorical_crossentropy', metrics=['sparse_categorical_accuracy'])\n",
        "# Optimizer: nadam\n",
        "# Loss: Sparse softmax (categorical) crossentropy\n",
        "model.summary()\n",
        "# 6. Training the model\n",
        "model.fit(X_train, y_train, epochs=10)\n",
        "# 7. Model evaluation and prediction\n",
        "test_loss, test_accuracy=model.evaluate(X_test, y_test)\n",
        "print(\"Test accuracy: {}\".format(test_accuracy))\n"
      ],
      "metadata": {
        "colab": {
          "base_uri": "https://localhost:8080/"
        },
        "id": "ugujyc6LXDVW",
        "outputId": "8fdb8e03-4a7e-4abb-83fd-228936b45abc"
      },
      "execution_count": null,
      "outputs": [
        {
          "output_type": "stream",
          "name": "stdout",
          "text": [
            "Model: \"sequential_16\"\n",
            "_________________________________________________________________\n",
            " Layer (type)                Output Shape              Param #   \n",
            "=================================================================\n",
            " dense_29 (Dense)            (None, 128)               100480    \n",
            "                                                                 \n",
            " dropout_13 (Dropout)        (None, 128)               0         \n",
            "                                                                 \n",
            " dense_30 (Dense)            (None, 10)                1290      \n",
            "                                                                 \n",
            "=================================================================\n",
            "Total params: 101770 (397.54 KB)\n",
            "Trainable params: 101770 (397.54 KB)\n",
            "Non-trainable params: 0 (0.00 Byte)\n",
            "_________________________________________________________________\n",
            "Epoch 1/10\n",
            "1875/1875 [==============================] - 8s 4ms/step - loss: 0.5819 - sparse_categorical_accuracy: 0.7987\n",
            "Epoch 2/10\n",
            "1875/1875 [==============================] - 6s 3ms/step - loss: 0.4183 - sparse_categorical_accuracy: 0.8482\n",
            "Epoch 3/10\n",
            "1875/1875 [==============================] - 7s 4ms/step - loss: 0.3835 - sparse_categorical_accuracy: 0.8607\n",
            "Epoch 4/10\n",
            "1875/1875 [==============================] - 6s 3ms/step - loss: 0.3606 - sparse_categorical_accuracy: 0.8693\n",
            "Epoch 5/10\n",
            "1875/1875 [==============================] - 7s 4ms/step - loss: 0.3437 - sparse_categorical_accuracy: 0.8748\n",
            "Epoch 6/10\n",
            "1875/1875 [==============================] - 7s 3ms/step - loss: 0.3276 - sparse_categorical_accuracy: 0.8802\n",
            "Epoch 7/10\n",
            "1875/1875 [==============================] - 7s 4ms/step - loss: 0.3164 - sparse_categorical_accuracy: 0.8837\n",
            "Epoch 8/10\n",
            "1875/1875 [==============================] - 7s 4ms/step - loss: 0.3068 - sparse_categorical_accuracy: 0.8871\n",
            "Epoch 9/10\n",
            "1875/1875 [==============================] - 6s 3ms/step - loss: 0.2991 - sparse_categorical_accuracy: 0.8902\n",
            "Epoch 10/10\n",
            "1875/1875 [==============================] - 7s 4ms/step - loss: 0.2894 - sparse_categorical_accuracy: 0.8918\n",
            "313/313 [==============================] - 1s 2ms/step - loss: 0.3313 - sparse_categorical_accuracy: 0.8813\n",
            "Test accuracy: 0.8812999725341797\n"
          ]
        }
      ]
    },
    {
      "cell_type": "markdown",
      "source": [
        "## AdaGrad"
      ],
      "metadata": {
        "id": "rxOj5ZWvXD6-"
      }
    },
    {
      "cell_type": "code",
      "source": [
        "# 1. Defining the model\n",
        "model=tf.keras.models.Sequential()\n",
        "# 2. Adding a first fully connected hidden layer\n",
        "model.add(tf.keras.layers.Dense(units=128, activation='sigmoid',input_shape=(784,)))\n",
        "# number of units/neurons: 128\n",
        "# activation function: sigmoid\n",
        "# input_shape: (784,)\n",
        "# 3. Adding second layer with dropout\n",
        "model.add(tf.keras.layers.Dropout(0.2))\n",
        "# 4. Adding the output layer\n",
        "model.add(tf.keras.layers.Dense(units=10, activation='softmax'))\n",
        "# units: number of classes (10 in Fashion MNIST dataset)\n",
        "# activation: softmax\n",
        "# 5. Compiling the model\n",
        "model.compile(optimizer='AdaGrad', loss='sparse_categorical_crossentropy', metrics=['sparse_categorical_accuracy'])\n",
        "# Optimizer: AdaGrad\n",
        "# Loss: Sparse softmax (categorical) crossentropy\n",
        "model.summary()\n",
        "# 6. Training the model\n",
        "model.fit(X_train, y_train, epochs=10)\n",
        "# 7. Model evaluation and prediction\n",
        "test_loss, test_accuracy=model.evaluate(X_test, y_test)\n",
        "print(\"Test accuracy: {}\".format(test_accuracy))\n"
      ],
      "metadata": {
        "colab": {
          "base_uri": "https://localhost:8080/"
        },
        "id": "uJ_qOCwrXFiN",
        "outputId": "6ba4ba4d-1a27-4525-d1f4-cd088eca7c11"
      },
      "execution_count": null,
      "outputs": [
        {
          "output_type": "stream",
          "name": "stdout",
          "text": [
            "Model: \"sequential_17\"\n",
            "_________________________________________________________________\n",
            " Layer (type)                Output Shape              Param #   \n",
            "=================================================================\n",
            " dense_31 (Dense)            (None, 128)               100480    \n",
            "                                                                 \n",
            " dropout_14 (Dropout)        (None, 128)               0         \n",
            "                                                                 \n",
            " dense_32 (Dense)            (None, 10)                1290      \n",
            "                                                                 \n",
            "=================================================================\n",
            "Total params: 101770 (397.54 KB)\n",
            "Trainable params: 101770 (397.54 KB)\n",
            "Non-trainable params: 0 (0.00 Byte)\n",
            "_________________________________________________________________\n",
            "Epoch 1/10\n",
            "1875/1875 [==============================] - 5s 3ms/step - loss: 1.8750 - sparse_categorical_accuracy: 0.3936\n",
            "Epoch 2/10\n",
            "1875/1875 [==============================] - 5s 3ms/step - loss: 1.3982 - sparse_categorical_accuracy: 0.5950\n",
            "Epoch 3/10\n",
            "1875/1875 [==============================] - 5s 3ms/step - loss: 1.2019 - sparse_categorical_accuracy: 0.6486\n",
            "Epoch 4/10\n",
            "1875/1875 [==============================] - 6s 3ms/step - loss: 1.0905 - sparse_categorical_accuracy: 0.6723\n",
            "Epoch 5/10\n",
            "1875/1875 [==============================] - 5s 3ms/step - loss: 1.0142 - sparse_categorical_accuracy: 0.6912\n",
            "Epoch 6/10\n",
            "1875/1875 [==============================] - 5s 3ms/step - loss: 0.9596 - sparse_categorical_accuracy: 0.7037\n",
            "Epoch 7/10\n",
            "1875/1875 [==============================] - 5s 3ms/step - loss: 0.9156 - sparse_categorical_accuracy: 0.7130\n",
            "Epoch 8/10\n",
            "1875/1875 [==============================] - 5s 2ms/step - loss: 0.8840 - sparse_categorical_accuracy: 0.7200\n",
            "Epoch 9/10\n",
            "1875/1875 [==============================] - 6s 3ms/step - loss: 0.8573 - sparse_categorical_accuracy: 0.7242\n",
            "Epoch 10/10\n",
            "1875/1875 [==============================] - 5s 3ms/step - loss: 0.8316 - sparse_categorical_accuracy: 0.7315\n",
            "313/313 [==============================] - 1s 2ms/step - loss: 0.7945 - sparse_categorical_accuracy: 0.7505\n",
            "Test accuracy: 0.7505000233650208\n"
          ]
        }
      ]
    },
    {
      "cell_type": "markdown",
      "source": [
        "## AdaDelta"
      ],
      "metadata": {
        "id": "oimE1FEqXGQW"
      }
    },
    {
      "cell_type": "code",
      "source": [
        "# 1. Defining the model\n",
        "model=tf.keras.models.Sequential()\n",
        "# 2. Adding a first fully connected hidden layer\n",
        "model.add(tf.keras.layers.Dense(units=128, activation='sigmoid',input_shape=(784,)))\n",
        "# number of units/neurons: 128\n",
        "# activation function: sigmoid\n",
        "# input_shape: (784,)\n",
        "# 3. Adding second layer with dropout\n",
        "model.add(tf.keras.layers.Dropout(0.2))\n",
        "# 4. Adding the output layer\n",
        "model.add(tf.keras.layers.Dense(units=10, activation='softmax'))\n",
        "# units: number of classes (10 in Fashion MNIST dataset)\n",
        "# activation: softmax\n",
        "# 5. Compiling the model\n",
        "model.compile(optimizer='AdaDelta', loss='sparse_categorical_crossentropy', metrics=['sparse_categorical_accuracy'])\n",
        "# Optimizer: AdaDelta\n",
        "# Loss: Sparse softmax (categorical) crossentropy\n",
        "model.summary()\n",
        "# 6. Training the model\n",
        "model.fit(X_train, y_train, epochs=10)\n",
        "# 7. Model evaluation and prediction\n",
        "test_loss, test_accuracy=model.evaluate(X_test, y_test)\n",
        "print(\"Test accuracy: {}\".format(test_accuracy))\n"
      ],
      "metadata": {
        "colab": {
          "base_uri": "https://localhost:8080/"
        },
        "id": "8YEJ-rmGXHQl",
        "outputId": "7880d7be-e0c2-4fa5-e1ab-ee12b8799891"
      },
      "execution_count": null,
      "outputs": [
        {
          "output_type": "stream",
          "name": "stdout",
          "text": [
            "Model: \"sequential_18\"\n",
            "_________________________________________________________________\n",
            " Layer (type)                Output Shape              Param #   \n",
            "=================================================================\n",
            " dense_33 (Dense)            (None, 128)               100480    \n",
            "                                                                 \n",
            " dropout_15 (Dropout)        (None, 128)               0         \n",
            "                                                                 \n",
            " dense_34 (Dense)            (None, 10)                1290      \n",
            "                                                                 \n",
            "=================================================================\n",
            "Total params: 101770 (397.54 KB)\n",
            "Trainable params: 101770 (397.54 KB)\n",
            "Non-trainable params: 0 (0.00 Byte)\n",
            "_________________________________________________________________\n",
            "Epoch 1/10\n",
            "1875/1875 [==============================] - 7s 4ms/step - loss: 2.4525 - sparse_categorical_accuracy: 0.1034\n",
            "Epoch 2/10\n",
            "1875/1875 [==============================] - 6s 3ms/step - loss: 2.2429 - sparse_categorical_accuracy: 0.1661\n",
            "Epoch 3/10\n",
            "1875/1875 [==============================] - 7s 4ms/step - loss: 2.0954 - sparse_categorical_accuracy: 0.2537\n",
            "Epoch 4/10\n",
            "1875/1875 [==============================] - 6s 3ms/step - loss: 1.9846 - sparse_categorical_accuracy: 0.3374\n",
            "Epoch 5/10\n",
            "1875/1875 [==============================] - 7s 4ms/step - loss: 1.8870 - sparse_categorical_accuracy: 0.4039\n",
            "Epoch 6/10\n",
            "1875/1875 [==============================] - 6s 3ms/step - loss: 1.8019 - sparse_categorical_accuracy: 0.4496\n",
            "Epoch 7/10\n",
            "1875/1875 [==============================] - 7s 4ms/step - loss: 1.7245 - sparse_categorical_accuracy: 0.4877\n",
            "Epoch 8/10\n",
            "1875/1875 [==============================] - 6s 3ms/step - loss: 1.6559 - sparse_categorical_accuracy: 0.5177\n",
            "Epoch 9/10\n",
            "1875/1875 [==============================] - 7s 4ms/step - loss: 1.5928 - sparse_categorical_accuracy: 0.5380\n",
            "Epoch 10/10\n",
            "1875/1875 [==============================] - 6s 3ms/step - loss: 1.5404 - sparse_categorical_accuracy: 0.5543\n",
            "313/313 [==============================] - 1s 2ms/step - loss: 1.4699 - sparse_categorical_accuracy: 0.6293\n",
            "Test accuracy: 0.6292999982833862\n"
          ]
        }
      ]
    },
    {
      "cell_type": "markdown",
      "source": [
        "# Conclusion:\n",
        "Best optimizer = Nadam (Test accuracy: 0.8812999725341797)\n"
      ],
      "metadata": {
        "id": "IiMlHQW6hCe7"
      }
    },
    {
      "cell_type": "markdown",
      "source": [
        "# Experimenting Best Output Activation Function"
      ],
      "metadata": {
        "id": "IZeydFO6hqp5"
      }
    },
    {
      "cell_type": "markdown",
      "source": [
        "Input activation function = sigmoid, Optimizer = Nadam"
      ],
      "metadata": {
        "id": "_KgFKmoqh2KH"
      }
    },
    {
      "cell_type": "markdown",
      "source": [
        "## output relu"
      ],
      "metadata": {
        "id": "baph3C7KiJJU"
      }
    },
    {
      "cell_type": "code",
      "source": [
        "# 1. Defining the model\n",
        "model=tf.keras.models.Sequential()\n",
        "# 2. Adding a first fully connected hidden layer\n",
        "model.add(tf.keras.layers.Dense(units=128, activation='sigmoid',input_shape=(784,)))\n",
        "# number of units/neurons: 128\n",
        "# activation function: sigmoid\n",
        "# input_shape: (784,)\n",
        "# 3. Adding second layer with dropout\n",
        "model.add(tf.keras.layers.Dropout(0.2))\n",
        "# 4. Adding the output layer\n",
        "model.add(tf.keras.layers.Dense(units=10, activation='relu'))\n",
        "# units: number of classes (10 in Fashion MNIST dataset)\n",
        "# activation: softmax\n",
        "# 5. Compiling the model\n",
        "model.compile(optimizer='nadam', loss='sparse_categorical_crossentropy', metrics=['sparse_categorical_accuracy'])\n",
        "# Optimizer: Nadam\n",
        "# Loss: Sparse softmax (categorical) crossentropy\n",
        "model.summary()\n",
        "# 6. Training the model\n",
        "model.fit(X_train, y_train, epochs=10)\n",
        "# 7. Model evaluation and prediction\n",
        "test_loss, test_accuracy=model.evaluate(X_test, y_test)\n",
        "print(\"Test accuracy: {}\".format(test_accuracy))\n"
      ],
      "metadata": {
        "colab": {
          "base_uri": "https://localhost:8080/"
        },
        "id": "tOO_sW9thxm3",
        "outputId": "8995a72c-ed26-4571-965a-56cec5c7b275"
      },
      "execution_count": null,
      "outputs": [
        {
          "output_type": "stream",
          "name": "stdout",
          "text": [
            "Model: \"sequential_27\"\n",
            "_________________________________________________________________\n",
            " Layer (type)                Output Shape              Param #   \n",
            "=================================================================\n",
            " dense_51 (Dense)            (None, 128)               100480    \n",
            "                                                                 \n",
            " dropout_24 (Dropout)        (None, 128)               0         \n",
            "                                                                 \n",
            " dense_52 (Dense)            (None, 10)                1290      \n",
            "                                                                 \n",
            "=================================================================\n",
            "Total params: 101770 (397.54 KB)\n",
            "Trainable params: 101770 (397.54 KB)\n",
            "Non-trainable params: 0 (0.00 Byte)\n",
            "_________________________________________________________________\n",
            "Epoch 1/10\n",
            "1875/1875 [==============================] - 10s 4ms/step - loss: 2.4825 - sparse_categorical_accuracy: 0.1661\n",
            "Epoch 2/10\n",
            "1875/1875 [==============================] - 10s 5ms/step - loss: 2.2660 - sparse_categorical_accuracy: 0.1164\n",
            "Epoch 3/10\n",
            "1875/1875 [==============================] - 9s 5ms/step - loss: 2.2857 - sparse_categorical_accuracy: 0.1081\n",
            "Epoch 4/10\n",
            "1875/1875 [==============================] - 7s 4ms/step - loss: 2.3026 - sparse_categorical_accuracy: 0.1000\n",
            "Epoch 5/10\n",
            "1875/1875 [==============================] - 9s 5ms/step - loss: 2.3027 - sparse_categorical_accuracy: 0.1000\n",
            "Epoch 6/10\n",
            "1875/1875 [==============================] - 8s 4ms/step - loss: 2.3026 - sparse_categorical_accuracy: 0.1000\n",
            "Epoch 7/10\n",
            "1875/1875 [==============================] - 7s 4ms/step - loss: 2.3025 - sparse_categorical_accuracy: 0.1000\n",
            "Epoch 8/10\n",
            "1875/1875 [==============================] - 8s 4ms/step - loss: 2.3026 - sparse_categorical_accuracy: 0.1000\n",
            "Epoch 9/10\n",
            "1875/1875 [==============================] - 6s 3ms/step - loss: 2.3026 - sparse_categorical_accuracy: 0.1000\n",
            "Epoch 10/10\n",
            "1875/1875 [==============================] - 8s 4ms/step - loss: 2.3028 - sparse_categorical_accuracy: 0.1000\n",
            "313/313 [==============================] - 1s 2ms/step - loss: 2.3026 - sparse_categorical_accuracy: 0.1000\n",
            "Test accuracy: 0.10000000149011612\n"
          ]
        }
      ]
    },
    {
      "cell_type": "markdown",
      "source": [
        "## output  LeakyReLU"
      ],
      "metadata": {
        "id": "iSH7vSoJiSo9"
      }
    },
    {
      "cell_type": "code",
      "source": [
        "# 1. Defining the model\n",
        "model=tf.keras.models.Sequential()\n",
        "# 2. Adding a first fully connected hidden layer\n",
        "model.add(tf.keras.layers.Dense(units=128, activation='sigmoid',input_shape=(784,)))\n",
        "# number of units/neurons: 128\n",
        "# activation function: sigmoid\n",
        "# input_shape: (784,)\n",
        "# 3. Adding second layer with dropout\n",
        "model.add(tf.keras.layers.Dropout(0.2))\n",
        "# 4. Adding the output layer\n",
        "model.add(tf.keras.layers.Dense(units=10, activation='LeakyReLU'))\n",
        "# units: number of classes (10 in Fashion MNIST dataset)\n",
        "# activation: softmax\n",
        "# 5. Compiling the model\n",
        "model.compile(optimizer='nadam', loss='sparse_categorical_crossentropy', metrics=['sparse_categorical_accuracy'])\n",
        "# Optimizer: Nadam\n",
        "# Loss: Sparse softmax (categorical) crossentropy\n",
        "model.summary()\n",
        "# 6. Training the model\n",
        "model.fit(X_train, y_train, epochs=10)\n",
        "# 7. Model evaluation and prediction\n",
        "test_loss, test_accuracy=model.evaluate(X_test, y_test)\n",
        "print(\"Test accuracy: {}\".format(test_accuracy))\n"
      ],
      "metadata": {
        "colab": {
          "base_uri": "https://localhost:8080/"
        },
        "id": "ZPrOvXCwiVo4",
        "outputId": "909fed70-27df-49b3-dbd8-d8a348231145"
      },
      "execution_count": null,
      "outputs": [
        {
          "output_type": "stream",
          "name": "stdout",
          "text": [
            "Model: \"sequential_28\"\n",
            "_________________________________________________________________\n",
            " Layer (type)                Output Shape              Param #   \n",
            "=================================================================\n",
            " dense_53 (Dense)            (None, 128)               100480    \n",
            "                                                                 \n",
            " dropout_25 (Dropout)        (None, 128)               0         \n",
            "                                                                 \n",
            " dense_54 (Dense)            (None, 10)                1290      \n",
            "                                                                 \n",
            "=================================================================\n",
            "Total params: 101770 (397.54 KB)\n",
            "Trainable params: 101770 (397.54 KB)\n",
            "Non-trainable params: 0 (0.00 Byte)\n",
            "_________________________________________________________________\n",
            "Epoch 1/10\n",
            "1875/1875 [==============================] - 9s 4ms/step - loss: 2.2627 - sparse_categorical_accuracy: 0.3919\n",
            "Epoch 2/10\n",
            "1875/1875 [==============================] - 7s 4ms/step - loss: 2.3025 - sparse_categorical_accuracy: 0.3450\n",
            "Epoch 3/10\n",
            "1875/1875 [==============================] - 7s 4ms/step - loss: 2.3030 - sparse_categorical_accuracy: 0.3286\n",
            "Epoch 4/10\n",
            "1875/1875 [==============================] - 8s 4ms/step - loss: 2.3027 - sparse_categorical_accuracy: 0.3059\n",
            "Epoch 5/10\n",
            "1875/1875 [==============================] - 6s 3ms/step - loss: 2.3027 - sparse_categorical_accuracy: 0.2614\n",
            "Epoch 6/10\n",
            "1875/1875 [==============================] - 8s 4ms/step - loss: 2.3026 - sparse_categorical_accuracy: 0.2055\n",
            "Epoch 7/10\n",
            "1875/1875 [==============================] - 6s 3ms/step - loss: 2.3026 - sparse_categorical_accuracy: 0.2074\n",
            "Epoch 8/10\n",
            "1875/1875 [==============================] - 7s 4ms/step - loss: 2.3026 - sparse_categorical_accuracy: 0.2077\n",
            "Epoch 9/10\n",
            "1875/1875 [==============================] - 6s 3ms/step - loss: 2.3026 - sparse_categorical_accuracy: 0.2059\n",
            "Epoch 10/10\n",
            "1875/1875 [==============================] - 8s 4ms/step - loss: 2.3026 - sparse_categorical_accuracy: 0.2063\n",
            "313/313 [==============================] - 1s 2ms/step - loss: 2.3026 - sparse_categorical_accuracy: 0.2181\n",
            "Test accuracy: 0.21809999644756317\n"
          ]
        }
      ]
    },
    {
      "cell_type": "markdown",
      "source": [
        "## output elu"
      ],
      "metadata": {
        "id": "f7yntt3wiW6U"
      }
    },
    {
      "cell_type": "code",
      "source": [
        "# 1. Defining the model\n",
        "model=tf.keras.models.Sequential()\n",
        "# 2. Adding a first fully connected hidden layer\n",
        "model.add(tf.keras.layers.Dense(units=128, activation='sigmoid',input_shape=(784,)))\n",
        "# number of units/neurons: 128\n",
        "# activation function: sigmoid\n",
        "# input_shape: (784,)\n",
        "# 3. Adding second layer with dropout\n",
        "model.add(tf.keras.layers.Dropout(0.2))\n",
        "# 4. Adding the output layer\n",
        "model.add(tf.keras.layers.Dense(units=10, activation='elu'))\n",
        "# units: number of classes (10 in Fashion MNIST dataset)\n",
        "# activation: softmax\n",
        "# 5. Compiling the model\n",
        "model.compile(optimizer='nadam', loss='sparse_categorical_crossentropy', metrics=['sparse_categorical_accuracy'])\n",
        "# Optimizer: Nadam\n",
        "# Loss: Sparse softmax (categorical) crossentropy\n",
        "model.summary()\n",
        "# 6. Training the model\n",
        "model.fit(X_train, y_train, epochs=10)\n",
        "# 7. Model evaluation and prediction\n",
        "test_loss, test_accuracy=model.evaluate(X_test, y_test)\n",
        "print(\"Test accuracy: {}\".format(test_accuracy))"
      ],
      "metadata": {
        "colab": {
          "base_uri": "https://localhost:8080/"
        },
        "id": "t5pu_qlBiX8D",
        "outputId": "9df480ae-de5f-4b43-daf2-1c3ac8ec707d"
      },
      "execution_count": null,
      "outputs": [
        {
          "output_type": "stream",
          "name": "stdout",
          "text": [
            "Model: \"sequential_29\"\n",
            "_________________________________________________________________\n",
            " Layer (type)                Output Shape              Param #   \n",
            "=================================================================\n",
            " dense_55 (Dense)            (None, 128)               100480    \n",
            "                                                                 \n",
            " dropout_26 (Dropout)        (None, 128)               0         \n",
            "                                                                 \n",
            " dense_56 (Dense)            (None, 10)                1290      \n",
            "                                                                 \n",
            "=================================================================\n",
            "Total params: 101770 (397.54 KB)\n",
            "Trainable params: 101770 (397.54 KB)\n",
            "Non-trainable params: 0 (0.00 Byte)\n",
            "_________________________________________________________________\n",
            "Epoch 1/10\n",
            "1875/1875 [==============================] - 8s 4ms/step - loss: 2.4080 - sparse_categorical_accuracy: 0.3363\n",
            "Epoch 2/10\n",
            "1875/1875 [==============================] - 7s 4ms/step - loss: 2.3034 - sparse_categorical_accuracy: 0.2390\n",
            "Epoch 3/10\n",
            "1875/1875 [==============================] - 8s 4ms/step - loss: 2.3027 - sparse_categorical_accuracy: 0.2271\n",
            "Epoch 4/10\n",
            "1875/1875 [==============================] - 7s 4ms/step - loss: 2.3026 - sparse_categorical_accuracy: 0.2286\n",
            "Epoch 5/10\n",
            "1875/1875 [==============================] - 8s 4ms/step - loss: 2.3028 - sparse_categorical_accuracy: 0.2121\n",
            "Epoch 6/10\n",
            "1875/1875 [==============================] - 8s 4ms/step - loss: 2.3029 - sparse_categorical_accuracy: 0.1479\n",
            "Epoch 7/10\n",
            "1875/1875 [==============================] - 7s 4ms/step - loss: 2.3026 - sparse_categorical_accuracy: 0.1299\n",
            "Epoch 8/10\n",
            "1875/1875 [==============================] - 8s 4ms/step - loss: 2.3026 - sparse_categorical_accuracy: 0.1266\n",
            "Epoch 9/10\n",
            "1875/1875 [==============================] - 7s 4ms/step - loss: 2.3026 - sparse_categorical_accuracy: 0.1262\n",
            "Epoch 10/10\n",
            "1875/1875 [==============================] - 7s 4ms/step - loss: 2.3026 - sparse_categorical_accuracy: 0.1258\n",
            "313/313 [==============================] - 1s 2ms/step - loss: 2.3026 - sparse_categorical_accuracy: 0.1461\n",
            "Test accuracy: 0.1460999995470047\n"
          ]
        }
      ]
    },
    {
      "cell_type": "markdown",
      "source": [
        "## output PReLU"
      ],
      "metadata": {
        "id": "ivI_oBBsiZLT"
      }
    },
    {
      "cell_type": "code",
      "source": [
        "# 1. Defining the model\n",
        "model=tf.keras.models.Sequential()\n",
        "# 2. Adding a first fully connected hidden layer\n",
        "model.add(tf.keras.layers.Dense(units=128, activation='sigmoid',input_shape=(784,)))\n",
        "# number of units/neurons: 128\n",
        "# activation function: sigmoid\n",
        "# input_shape: (784,)\n",
        "# 3. Adding second layer with dropout\n",
        "model.add(tf.keras.layers.Dropout(0.2))\n",
        "# 4. Adding the output layer\n",
        "model.add(tf.keras.layers.Dense(units=10, activation='PReLU'))\n",
        "# units: number of classes (10 in Fashion MNIST dataset)\n",
        "# activation: softmax\n",
        "# 5. Compiling the model\n",
        "model.compile(optimizer='nadam', loss='sparse_categorical_crossentropy', metrics=['sparse_categorical_accuracy'])\n",
        "# Optimizer: Nadam\n",
        "# Loss: Sparse softmax (categorical) crossentropy\n",
        "model.summary()\n",
        "# 6. Training the model\n",
        "model.fit(X_train, y_train, epochs=10)\n",
        "# 7. Model evaluation and prediction\n",
        "test_loss, test_accuracy=model.evaluate(X_test, y_test)\n",
        "print(\"Test accuracy: {}\".format(test_accuracy))\n"
      ],
      "metadata": {
        "colab": {
          "base_uri": "https://localhost:8080/"
        },
        "id": "4ZnQas8Jibri",
        "outputId": "4c396299-6fa9-446e-b5f0-c22f5f0a01f1"
      },
      "execution_count": null,
      "outputs": [
        {
          "output_type": "stream",
          "name": "stdout",
          "text": [
            "Model: \"sequential_30\"\n",
            "_________________________________________________________________\n",
            " Layer (type)                Output Shape              Param #   \n",
            "=================================================================\n",
            " dense_57 (Dense)            (None, 128)               100480    \n",
            "                                                                 \n",
            " dropout_27 (Dropout)        (None, 128)               0         \n",
            "                                                                 \n",
            " dense_58 (Dense)            (None, 10)                1300      \n",
            "                                                                 \n",
            "=================================================================\n",
            "Total params: 101780 (397.58 KB)\n",
            "Trainable params: 101780 (397.58 KB)\n",
            "Non-trainable params: 0 (0.00 Byte)\n",
            "_________________________________________________________________\n",
            "Epoch 1/10\n",
            "1875/1875 [==============================] - 9s 4ms/step - loss: 2.4085 - sparse_categorical_accuracy: 0.1098\n",
            "Epoch 2/10\n",
            "1875/1875 [==============================] - 6s 3ms/step - loss: 2.3022 - sparse_categorical_accuracy: 0.1005\n",
            "Epoch 3/10\n",
            "1875/1875 [==============================] - 8s 4ms/step - loss: 2.3027 - sparse_categorical_accuracy: 0.1000\n",
            "Epoch 4/10\n",
            "1875/1875 [==============================] - 7s 4ms/step - loss: 2.3029 - sparse_categorical_accuracy: 0.1000\n",
            "Epoch 5/10\n",
            "1875/1875 [==============================] - 8s 4ms/step - loss: 2.3029 - sparse_categorical_accuracy: 0.1000\n",
            "Epoch 6/10\n",
            "1875/1875 [==============================] - 7s 4ms/step - loss: 2.3025 - sparse_categorical_accuracy: 0.1000\n",
            "Epoch 7/10\n",
            "1875/1875 [==============================] - 7s 4ms/step - loss: 2.3026 - sparse_categorical_accuracy: 0.1000\n",
            "Epoch 8/10\n",
            "1875/1875 [==============================] - 8s 4ms/step - loss: 2.3026 - sparse_categorical_accuracy: 0.1000\n",
            "Epoch 9/10\n",
            "1875/1875 [==============================] - 6s 3ms/step - loss: 2.3034 - sparse_categorical_accuracy: 0.1000\n",
            "Epoch 10/10\n",
            "1875/1875 [==============================] - 8s 4ms/step - loss: 2.3026 - sparse_categorical_accuracy: 0.1000\n",
            "313/313 [==============================] - 1s 2ms/step - loss: 2.3026 - sparse_categorical_accuracy: 0.1000\n",
            "Test accuracy: 0.10000000149011612\n"
          ]
        }
      ]
    },
    {
      "cell_type": "markdown",
      "source": [
        "## output Sigmoid"
      ],
      "metadata": {
        "id": "NnWG59N2icGC"
      }
    },
    {
      "cell_type": "code",
      "source": [
        "# 1. Defining the model\n",
        "model=tf.keras.models.Sequential()\n",
        "# 2. Adding a first fully connected hidden layer\n",
        "model.add(tf.keras.layers.Dense(units=128, activation='sigmoid',input_shape=(784,)))\n",
        "# number of units/neurons: 128\n",
        "# activation function: sigmoid\n",
        "# input_shape: (784,)\n",
        "# 3. Adding second layer with dropout\n",
        "model.add(tf.keras.layers.Dropout(0.2))\n",
        "# 4. Adding the output layer\n",
        "model.add(tf.keras.layers.Dense(units=10, activation='sigmoid'))\n",
        "# units: number of classes (10 in Fashion MNIST dataset)\n",
        "# activation: softmax\n",
        "# 5. Compiling the model\n",
        "model.compile(optimizer='nadam', loss='sparse_categorical_crossentropy', metrics=['sparse_categorical_accuracy'])\n",
        "# Optimizer: Nadam\n",
        "# Loss: Sparse softmax (categorical) crossentropy\n",
        "model.summary()\n",
        "# 6. Training the model\n",
        "model.fit(X_train, y_train, epochs=10)\n",
        "# 7. Model evaluation and prediction\n",
        "test_loss, test_accuracy=model.evaluate(X_test, y_test)\n",
        "print(\"Test accuracy: {}\".format(test_accuracy))\n"
      ],
      "metadata": {
        "colab": {
          "base_uri": "https://localhost:8080/"
        },
        "id": "_ZroSXMlieVI",
        "outputId": "3c45808c-bd56-4300-ab54-7169442ee863"
      },
      "execution_count": null,
      "outputs": [
        {
          "output_type": "stream",
          "name": "stdout",
          "text": [
            "Model: \"sequential_31\"\n",
            "_________________________________________________________________\n",
            " Layer (type)                Output Shape              Param #   \n",
            "=================================================================\n",
            " dense_59 (Dense)            (None, 128)               100480    \n",
            "                                                                 \n",
            " dropout_28 (Dropout)        (None, 128)               0         \n",
            "                                                                 \n",
            " dense_60 (Dense)            (None, 10)                1290      \n",
            "                                                                 \n",
            "=================================================================\n",
            "Total params: 101770 (397.54 KB)\n",
            "Trainable params: 101770 (397.54 KB)\n",
            "Non-trainable params: 0 (0.00 Byte)\n",
            "_________________________________________________________________\n",
            "Epoch 1/10\n",
            "1875/1875 [==============================] - 8s 4ms/step - loss: 0.5823 - sparse_categorical_accuracy: 0.7990\n",
            "Epoch 2/10\n",
            "1875/1875 [==============================] - 7s 4ms/step - loss: 0.4198 - sparse_categorical_accuracy: 0.8477\n",
            "Epoch 3/10\n",
            "1875/1875 [==============================] - 7s 4ms/step - loss: 0.3845 - sparse_categorical_accuracy: 0.8609\n",
            "Epoch 4/10\n",
            "1875/1875 [==============================] - 6s 3ms/step - loss: 0.3612 - sparse_categorical_accuracy: 0.8683\n",
            "Epoch 5/10\n",
            "1875/1875 [==============================] - 7s 4ms/step - loss: 0.3440 - sparse_categorical_accuracy: 0.8750\n",
            "Epoch 6/10\n",
            "1875/1875 [==============================] - 6s 3ms/step - loss: 0.3298 - sparse_categorical_accuracy: 0.8793\n",
            "Epoch 7/10\n",
            "1875/1875 [==============================] - 7s 4ms/step - loss: 0.3195 - sparse_categorical_accuracy: 0.8833\n",
            "Epoch 8/10\n",
            "1875/1875 [==============================] - 6s 3ms/step - loss: 0.3070 - sparse_categorical_accuracy: 0.8867\n",
            "Epoch 9/10\n",
            "1875/1875 [==============================] - 7s 4ms/step - loss: 0.3011 - sparse_categorical_accuracy: 0.8900\n",
            "Epoch 10/10\n",
            "1875/1875 [==============================] - 6s 3ms/step - loss: 0.2914 - sparse_categorical_accuracy: 0.8930\n",
            "313/313 [==============================] - 1s 2ms/step - loss: 0.3385 - sparse_categorical_accuracy: 0.8781\n",
            "Test accuracy: 0.8780999779701233\n"
          ]
        }
      ]
    },
    {
      "cell_type": "markdown",
      "source": [
        "## output tanh"
      ],
      "metadata": {
        "id": "6RUBdFXwigKu"
      }
    },
    {
      "cell_type": "code",
      "source": [
        "# 1. Defining the model\n",
        "model=tf.keras.models.Sequential()\n",
        "# 2. Adding a first fully connected hidden layer\n",
        "model.add(tf.keras.layers.Dense(units=128, activation='sigmoid',input_shape=(784,)))\n",
        "# number of units/neurons: 128\n",
        "# activation function: sigmoid\n",
        "# input_shape: (784,)\n",
        "# 3. Adding second layer with dropout\n",
        "model.add(tf.keras.layers.Dropout(0.2))\n",
        "# 4. Adding the output layer\n",
        "model.add(tf.keras.layers.Dense(units=10, activation='tanh'))\n",
        "# units: number of classes (10 in Fashion MNIST dataset)\n",
        "# activation: softmax\n",
        "# 5. Compiling the model\n",
        "model.compile(optimizer='nadam', loss='sparse_categorical_crossentropy', metrics=['sparse_categorical_accuracy'])\n",
        "# Optimizer: nadam\n",
        "# Loss: Sparse softmax (categorical) crossentropy\n",
        "model.summary()\n",
        "# 6. Training the model\n",
        "model.fit(X_train, y_train, epochs=10)\n",
        "# 7. Model evaluation and prediction\n",
        "test_loss, test_accuracy=model.evaluate(X_test, y_test)\n",
        "print(\"Test accuracy: {}\".format(test_accuracy))\n"
      ],
      "metadata": {
        "colab": {
          "base_uri": "https://localhost:8080/"
        },
        "id": "BA0HPXX9iif-",
        "outputId": "5a760164-0047-40a4-b3ea-816b64ccd8be"
      },
      "execution_count": null,
      "outputs": [
        {
          "output_type": "stream",
          "name": "stdout",
          "text": [
            "Model: \"sequential_32\"\n",
            "_________________________________________________________________\n",
            " Layer (type)                Output Shape              Param #   \n",
            "=================================================================\n",
            " dense_61 (Dense)            (None, 128)               100480    \n",
            "                                                                 \n",
            " dropout_29 (Dropout)        (None, 128)               0         \n",
            "                                                                 \n",
            " dense_62 (Dense)            (None, 10)                1290      \n",
            "                                                                 \n",
            "=================================================================\n",
            "Total params: 101770 (397.54 KB)\n",
            "Trainable params: 101770 (397.54 KB)\n",
            "Non-trainable params: 0 (0.00 Byte)\n",
            "_________________________________________________________________\n",
            "Epoch 1/10\n",
            "1875/1875 [==============================] - 7s 3ms/step - loss: 2.6603 - sparse_categorical_accuracy: 0.3890\n",
            "Epoch 2/10\n",
            "1875/1875 [==============================] - 7s 4ms/step - loss: 2.3028 - sparse_categorical_accuracy: 0.3382\n",
            "Epoch 3/10\n",
            "1875/1875 [==============================] - 7s 4ms/step - loss: 2.3023 - sparse_categorical_accuracy: 0.3177\n",
            "Epoch 4/10\n",
            "1875/1875 [==============================] - 7s 4ms/step - loss: 2.3026 - sparse_categorical_accuracy: 0.3030\n",
            "Epoch 5/10\n",
            "1875/1875 [==============================] - 7s 4ms/step - loss: 2.3025 - sparse_categorical_accuracy: 0.3033\n",
            "Epoch 6/10\n",
            "1875/1875 [==============================] - 6s 3ms/step - loss: 2.3025 - sparse_categorical_accuracy: 0.3027\n",
            "Epoch 7/10\n",
            "1875/1875 [==============================] - 7s 4ms/step - loss: 2.3025 - sparse_categorical_accuracy: 0.3028\n",
            "Epoch 8/10\n",
            "1875/1875 [==============================] - 6s 3ms/step - loss: 2.3025 - sparse_categorical_accuracy: 0.3035\n",
            "Epoch 9/10\n",
            "1875/1875 [==============================] - 7s 4ms/step - loss: 2.3025 - sparse_categorical_accuracy: 0.3015\n",
            "Epoch 10/10\n",
            "1875/1875 [==============================] - 6s 3ms/step - loss: 2.3025 - sparse_categorical_accuracy: 0.3014\n",
            "313/313 [==============================] - 1s 2ms/step - loss: 2.3026 - sparse_categorical_accuracy: 0.3739\n",
            "Test accuracy: 0.37389999628067017\n"
          ]
        }
      ]
    },
    {
      "cell_type": "markdown",
      "source": [
        "## output softmax"
      ],
      "metadata": {
        "id": "kepTmvIcijno"
      }
    },
    {
      "cell_type": "code",
      "source": [
        "# 1. Defining the model\n",
        "model=tf.keras.models.Sequential()\n",
        "# 2. Adding a first fully connected hidden layer\n",
        "model.add(tf.keras.layers.Dense(units=128, activation='sigmoid',input_shape=(784,)))\n",
        "# number of units/neurons: 128\n",
        "# activation function: sigmoid\n",
        "# input_shape: (784,)\n",
        "# 3. Adding second layer with dropout\n",
        "model.add(tf.keras.layers.Dropout(0.2))\n",
        "# 4. Adding the output layer\n",
        "model.add(tf.keras.layers.Dense(units=10, activation='softmax'))\n",
        "# units: number of classes (10 in Fashion MNIST dataset)\n",
        "# activation: softmax\n",
        "# 5. Compiling the model\n",
        "model.compile(optimizer='nadam', loss='sparse_categorical_crossentropy', metrics=['sparse_categorical_accuracy'])\n",
        "# Optimizer: Nadam\n",
        "# Loss: Sparse softmax (categorical) crossentropy\n",
        "model.summary()\n",
        "# 6. Training the model\n",
        "model.fit(X_train, y_train, epochs=10)\n",
        "# 7. Model evaluation and prediction\n",
        "test_loss, test_accuracy=model.evaluate(X_test, y_test)\n",
        "print(\"Test accuracy: {}\".format(test_accuracy))\n"
      ],
      "metadata": {
        "colab": {
          "base_uri": "https://localhost:8080/"
        },
        "id": "4Fg3ja9iilNk",
        "outputId": "699a0067-ea9a-4a5a-8542-0740e4b0ee51"
      },
      "execution_count": null,
      "outputs": [
        {
          "output_type": "stream",
          "name": "stdout",
          "text": [
            "Model: \"sequential_33\"\n",
            "_________________________________________________________________\n",
            " Layer (type)                Output Shape              Param #   \n",
            "=================================================================\n",
            " dense_63 (Dense)            (None, 128)               100480    \n",
            "                                                                 \n",
            " dropout_30 (Dropout)        (None, 128)               0         \n",
            "                                                                 \n",
            " dense_64 (Dense)            (None, 10)                1290      \n",
            "                                                                 \n",
            "=================================================================\n",
            "Total params: 101770 (397.54 KB)\n",
            "Trainable params: 101770 (397.54 KB)\n",
            "Non-trainable params: 0 (0.00 Byte)\n",
            "_________________________________________________________________\n",
            "Epoch 1/10\n",
            "1875/1875 [==============================] - 8s 4ms/step - loss: 0.5841 - sparse_categorical_accuracy: 0.7991\n",
            "Epoch 2/10\n",
            "1875/1875 [==============================] - 7s 4ms/step - loss: 0.4192 - sparse_categorical_accuracy: 0.8489\n",
            "Epoch 3/10\n",
            "1875/1875 [==============================] - 6s 3ms/step - loss: 0.3846 - sparse_categorical_accuracy: 0.8612\n",
            "Epoch 4/10\n",
            "1875/1875 [==============================] - 7s 4ms/step - loss: 0.3598 - sparse_categorical_accuracy: 0.8699\n",
            "Epoch 5/10\n",
            "1875/1875 [==============================] - 6s 3ms/step - loss: 0.3446 - sparse_categorical_accuracy: 0.8734\n",
            "Epoch 6/10\n",
            "1875/1875 [==============================] - 7s 4ms/step - loss: 0.3304 - sparse_categorical_accuracy: 0.8797\n",
            "Epoch 7/10\n",
            "1875/1875 [==============================] - 6s 3ms/step - loss: 0.3179 - sparse_categorical_accuracy: 0.8840\n",
            "Epoch 8/10\n",
            "1875/1875 [==============================] - 8s 4ms/step - loss: 0.3092 - sparse_categorical_accuracy: 0.8856\n",
            "Epoch 9/10\n",
            "1875/1875 [==============================] - 6s 3ms/step - loss: 0.2989 - sparse_categorical_accuracy: 0.8902\n",
            "Epoch 10/10\n",
            "1875/1875 [==============================] - 8s 4ms/step - loss: 0.2923 - sparse_categorical_accuracy: 0.8925\n",
            "313/313 [==============================] - 1s 2ms/step - loss: 0.3361 - sparse_categorical_accuracy: 0.8798\n",
            "Test accuracy: 0.879800021648407\n"
          ]
        }
      ]
    },
    {
      "cell_type": "markdown",
      "source": [
        "## Conclusion:\n",
        "Best output layer activation function = softmax. Test accuracy:  0.879800021648407"
      ],
      "metadata": {
        "id": "OAtJvNy8jZWj"
      }
    }
  ]
}